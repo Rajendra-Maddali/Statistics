{
  "nbformat": 4,
  "nbformat_minor": 0,
  "metadata": {
    "colab": {
      "provenance": []
    },
    "kernelspec": {
      "name": "python3",
      "display_name": "Python 3"
    },
    "language_info": {
      "name": "python"
    }
  },
  "cells": [
    {
      "cell_type": "code",
      "execution_count": null,
      "metadata": {
        "id": "UVmhYVNTrHWG"
      },
      "outputs": [],
      "source": [
        "#calculating the descriptive statistics\n",
        "import math\n",
        "import statistics\n",
        "import numpy as np\n",
        "import scipy.stats\n",
        "import pandas as pd\n",
        "#these are the packages need"
      ]
    },
    {
      "cell_type": "code",
      "source": [
        "#measure of central tendency"
      ],
      "metadata": {
        "id": "RUp8272562yx"
      },
      "execution_count": null,
      "outputs": []
    },
    {
      "cell_type": "code",
      "source": [
        "x = [8.0, 19, 2.5, 4, 28.0]\n",
        "x_with_nan = [8.0, 1, 2.5, math.nan, 4, 28.0]\n",
        "print(x)\n",
        "print(x_with_nan)"
      ],
      "metadata": {
        "colab": {
          "base_uri": "https://localhost:8080/"
        },
        "id": "aqhvhvPrroxP",
        "outputId": "71a35f2c-3ef1-4abd-f50b-3ff4018aa029"
      },
      "execution_count": null,
      "outputs": [
        {
          "output_type": "stream",
          "name": "stdout",
          "text": [
            "[8.0, 19, 2.5, 4, 28.0]\n",
            "[8.0, 1, 2.5, nan, 4, 28.0]\n"
          ]
        }
      ]
    },
    {
      "cell_type": "code",
      "source": [
        "y, y_with_nan = np.array(x), np.array(x_with_nan)\n",
        "z, z_with_nan = pd.Series(x), pd.Series(x_with_nan)\n"
      ],
      "metadata": {
        "id": "BsBU-giMsDgy"
      },
      "execution_count": null,
      "outputs": []
    },
    {
      "cell_type": "code",
      "source": [
        "#calculating mean\n",
        "mean_=sum(x)/len(x)\n",
        "print(mean_)\n",
        "#applying the statistics function\n",
        "mean_s=statistics.mean(x)\n",
        "print(mean_s)\n",
        "#fmean always return floating point\n",
        "mean_s=statistics.mean(x)\n",
        "print(mean_s)\n",
        "#using numpy\n",
        "print(np.mean(y))\n",
        "#mean function also we can use\n",
        "y.mean()"
      ],
      "metadata": {
        "colab": {
          "base_uri": "https://localhost:8080/"
        },
        "id": "8uGmzPZItzn7",
        "outputId": "7ed28430-6c25-473e-874a-3e3013c4fe3b"
      },
      "execution_count": null,
      "outputs": [
        {
          "output_type": "stream",
          "name": "stdout",
          "text": [
            "12.3\n",
            "12.3\n",
            "12.3\n",
            "12.3\n"
          ]
        },
        {
          "output_type": "execute_result",
          "data": {
            "text/plain": [
              "12.3"
            ]
          },
          "metadata": {},
          "execution_count": 72
        }
      ]
    },
    {
      "cell_type": "code",
      "source": [
        "# NaN is coming when you do mean if the data contain NaN\n",
        "mean_ = statistics.mean(x_with_nan)\n",
        "print(mean_)\n",
        "#if you want to print by ignore nan the u can use below function\n",
        "print(np.nanmean(y_with_nan))"
      ],
      "metadata": {
        "colab": {
          "base_uri": "https://localhost:8080/"
        },
        "id": "3YSuqlfXuzrj",
        "outputId": "e17fe951-5488-4082-cb0a-fa63fcbfa867"
      },
      "execution_count": null,
      "outputs": [
        {
          "output_type": "stream",
          "name": "stdout",
          "text": [
            "nan\n",
            "8.7\n"
          ]
        }
      ]
    },
    {
      "cell_type": "code",
      "source": [
        "#mean from pandas ignore the nan values u can use .mean function\n",
        "print(z_with_nan.mean)\n",
        "z_with_nan.mean()\n"
      ],
      "metadata": {
        "colab": {
          "base_uri": "https://localhost:8080/"
        },
        "id": "T-2O5IHWu8BR",
        "outputId": "411b3f41-9a17-4ef8-bd10-8e6584354150"
      },
      "execution_count": null,
      "outputs": [
        {
          "output_type": "stream",
          "name": "stdout",
          "text": [
            "<bound method NDFrame._add_numeric_operations.<locals>.mean of 0     8.0\n",
            "1     1.0\n",
            "2     2.5\n",
            "3     NaN\n",
            "4     4.0\n",
            "5    28.0\n",
            "dtype: float64>\n"
          ]
        },
        {
          "output_type": "execute_result",
          "data": {
            "text/plain": [
              "8.7"
            ]
          },
          "metadata": {},
          "execution_count": 74
        }
      ]
    },
    {
      "cell_type": "code",
      "source": [
        "#weighted mean using range or zip function\n",
        "x = [8.0, 1, 2.5, 4, 28.0]\n",
        "w = [0.1, 0.2, 0.3, 0.25, 0.15]\n",
        "wmean = sum(w[i] * x[i] for i in range(len(x))) / sum(w)\n",
        "print(wmean)\n",
        "\n",
        "wmean = sum(x_ * w_ for (x_, w_) in zip(x, w)) / sum(w)\n",
        "wmean\n"
      ],
      "metadata": {
        "colab": {
          "base_uri": "https://localhost:8080/"
        },
        "id": "vjS7v6NmvxIi",
        "outputId": "37db4da8-c688-484c-f66e-ba5a4fad78ef"
      },
      "execution_count": null,
      "outputs": [
        {
          "output_type": "stream",
          "name": "stdout",
          "text": [
            "6.95\n"
          ]
        },
        {
          "output_type": "execute_result",
          "data": {
            "text/plain": [
              "6.95"
            ]
          },
          "metadata": {},
          "execution_count": 75
        }
      ]
    },
    {
      "cell_type": "code",
      "source": [
        "#for large dataset using numpy and pandas we use np.average\n",
        "y, z, w = np.array(x), pd.Series(x), np.array(w)\n",
        "wmean = np.average(y, weights=w)\n",
        "print(wmean)\n",
        "wmean = np.average(z, weights=w)\n",
        "print(wmean)\n"
      ],
      "metadata": {
        "colab": {
          "base_uri": "https://localhost:8080/"
        },
        "id": "fiBU_Uslx7Zb",
        "outputId": "11f7f458-6f07-4ae6-cf4b-375c21407c78"
      },
      "execution_count": null,
      "outputs": [
        {
          "output_type": "stream",
          "name": "stdout",
          "text": [
            "6.95\n",
            "6.95\n"
          ]
        }
      ]
    },
    {
      "cell_type": "code",
      "source": [
        "#element wide product weighted mean\n",
        "(w * y).sum() / w.sum()\n"
      ],
      "metadata": {
        "colab": {
          "base_uri": "https://localhost:8080/"
        },
        "id": "kfruV5x-ysXk",
        "outputId": "5685d042-f859-4d74-a5a1-3b0408e0ff07"
      },
      "execution_count": null,
      "outputs": [
        {
          "output_type": "execute_result",
          "data": {
            "text/plain": [
              "6.95"
            ]
          },
          "metadata": {},
          "execution_count": 77
        }
      ]
    },
    {
      "cell_type": "code",
      "source": [
        "#weighted avg with nan will give nan only\n",
        "w = np.array([0.1, 0.2, 0.3, 0.0, 0.2, 0.1])\n",
        "print((w * y_with_nan).sum() / w.sum())\n",
        "\n",
        "print(np.average(y_with_nan, weights=w))\n",
        "\n",
        "print(np.average(z_with_nan, weights=w))\n"
      ],
      "metadata": {
        "colab": {
          "base_uri": "https://localhost:8080/"
        },
        "id": "9xt4BchPzHNK",
        "outputId": "eb96f94a-0dc4-4264-d5d9-0d71ec9283a3"
      },
      "execution_count": null,
      "outputs": [
        {
          "output_type": "stream",
          "name": "stdout",
          "text": [
            "nan\n",
            "nan\n",
            "nan\n"
          ]
        }
      ]
    },
    {
      "cell_type": "code",
      "source": [
        "#harmonic mean\n",
        "hmean = len(x) / sum(1 / item for item in x)\n",
        "print(hmean)\n"
      ],
      "metadata": {
        "colab": {
          "base_uri": "https://localhost:8080/"
        },
        "id": "LlzYnabFz9rg",
        "outputId": "cae6c15b-75f4-4ca1-f75b-0802bf5edd09"
      },
      "execution_count": null,
      "outputs": [
        {
          "output_type": "stream",
          "name": "stdout",
          "text": [
            "2.7613412228796843\n"
          ]
        }
      ]
    },
    {
      "cell_type": "code",
      "source": [
        "#However, if your dataset contains nan, 0, a negative number, or anything but positive numbers, then you’ll get a ValueError!\n",
        "#with stat fun with nan\n",
        "print(statistics.harmonic_mean(x_with_nan))\n",
        "\n",
        "print(scipy.stats.hmean([1, 0, 2]))\n",
        "#statistics.harmonic_mean([1, 2, -2]) # Raises StatisticsError\n"
      ],
      "metadata": {
        "colab": {
          "base_uri": "https://localhost:8080/"
        },
        "id": "0EVF_T5d0ayK",
        "outputId": "c23efed1-f0e8-4e15-a795-bcdab1101838"
      },
      "execution_count": null,
      "outputs": [
        {
          "output_type": "stream",
          "name": "stdout",
          "text": [
            "nan\n",
            "0.0\n"
          ]
        }
      ]
    },
    {
      "cell_type": "code",
      "source": [
        "#hm is simillar function name gmean replace the code with that one\n",
        "gmean = 1\n",
        "for item in x:\n",
        "     gmean *= item\n",
        "\n",
        "gmean **= 1 / len(x)\n",
        "gmean\n"
      ],
      "metadata": {
        "colab": {
          "base_uri": "https://localhost:8080/"
        },
        "id": "f770091n0697",
        "outputId": "1b6f2405-925f-4e2b-e5f7-d6534427b5b4"
      },
      "execution_count": null,
      "outputs": [
        {
          "output_type": "execute_result",
          "data": {
            "text/plain": [
              "4.677885674856041"
            ]
          },
          "metadata": {},
          "execution_count": 81
        }
      ]
    },
    {
      "cell_type": "code",
      "source": [
        "#The main difference between the behavior of the mean and median is related to dataset outliers or extremes.\n",
        "#The mean is heavily affected by outliers, but the median only depends on outliers either slightly or not at al\n",
        "\n",
        "n = len(x)\n",
        "if n % 2:\n",
        "  median_ = sorted(x)[round(0.5*(n-1))]\n",
        "else:\n",
        "\n",
        "  x_ord, index = sorted(x), round(0.5 * n)\n",
        "  median_ = 0.5 * (x_ord[index-1] + x_ord[index])\n",
        "\n",
        "median_\n"
      ],
      "metadata": {
        "colab": {
          "base_uri": "https://localhost:8080/"
        },
        "id": "fW8UmUkp2Ngi",
        "outputId": "694c0c6d-2489-4e36-913a-c0285933ee16"
      },
      "execution_count": null,
      "outputs": [
        {
          "output_type": "execute_result",
          "data": {
            "text/plain": [
              "4"
            ]
          },
          "metadata": {},
          "execution_count": 82
        }
      ]
    },
    {
      "cell_type": "code",
      "source": [
        "#If this behavior is not what you want, then you can use nanmedian() to ignore all nan values:\n",
        "np.nanmedian(y_with_nan)\n",
        "np.nanmedian(y_with_nan[:-1])\n",
        "4.0\n",
        "median_ = np.median(y)\n",
        "#middle two values low and high\n",
        "statistics.median_low(x[:-1])\n",
        "statistics.median_high(x[:-1])\n",
        "median_ = statistics.median(x)\n",
        "#pandas Series objects have the method .median() that ignores nan values by"
      ],
      "metadata": {
        "id": "cha5h_Hu34E6"
      },
      "execution_count": null,
      "outputs": []
    },
    {
      "cell_type": "code",
      "source": [
        "u = [2, 3, 2, 8, 12]\n",
        "mode_ = max((u.count(item), item) for item in set(u))[1]#set(u) returns a Python set with all unique items in u\n",
        "mode_\n",
        "statistics.mode(u)\n",
        "statistics.multimode(u)"
      ],
      "metadata": {
        "colab": {
          "base_uri": "https://localhost:8080/"
        },
        "id": "lDF_SAfb45s7",
        "outputId": "0fc39837-300f-498e-8a21-2504f17b4ae5"
      },
      "execution_count": null,
      "outputs": [
        {
          "output_type": "execute_result",
          "data": {
            "text/plain": [
              "[2]"
            ]
          },
          "metadata": {},
          "execution_count": 84
        }
      ]
    },
    {
      "cell_type": "code",
      "source": [
        "#while multimode() returns the list with all modes:\n",
        "v = [12, 15, 12, 15, 21, 15, 12]\n",
        "#statistics.mode(v)  # Raises StatisticsError\n",
        "statistics.multimode(v)\n"
      ],
      "metadata": {
        "colab": {
          "base_uri": "https://localhost:8080/"
        },
        "id": "eJjO4-iY5PCr",
        "outputId": "347c18bc-4957-4967-a96b-eb848d9ff5f7"
      },
      "execution_count": null,
      "outputs": [
        {
          "output_type": "execute_result",
          "data": {
            "text/plain": [
              "[12, 15]"
            ]
          },
          "metadata": {},
          "execution_count": 85
        }
      ]
    },
    {
      "cell_type": "code",
      "source": [
        "#statistics.mode() and statistics.multimode() handle nan values as regular values and can return nan as the modal value:\n",
        "statistics.mode([2, math.nan, 0, math.nan, 5])\n",
        "statistics.multimode([2, math.nan, 0, math.nan, 5])"
      ],
      "metadata": {
        "colab": {
          "base_uri": "https://localhost:8080/"
        },
        "id": "oqrNFftW6C46",
        "outputId": "ea7004c8-657d-4605-ea48-e03f43570fcd"
      },
      "execution_count": null,
      "outputs": [
        {
          "output_type": "execute_result",
          "data": {
            "text/plain": [
              "[nan]"
            ]
          },
          "metadata": {},
          "execution_count": 86
        }
      ]
    },
    {
      "cell_type": "code",
      "source": [
        "#pandas Series objects have the method .mode() that handles multimodal values well and ignores nan values by default:\n",
        "u, v, w = pd.Series(u), pd.Series(v), pd.Series([2, 2, math.nan])\n",
        "u.mode()\n"
      ],
      "metadata": {
        "colab": {
          "base_uri": "https://localhost:8080/"
        },
        "id": "b3c4ptGU6ken",
        "outputId": "e9c9c7b3-1763-45e2-d0af-c175147c8dc3"
      },
      "execution_count": null,
      "outputs": [
        {
          "output_type": "execute_result",
          "data": {
            "text/plain": [
              "0    2\n",
              "dtype: int64"
            ]
          },
          "metadata": {},
          "execution_count": 87
        }
      ]
    },
    {
      "cell_type": "code",
      "source": [
        "#measure of variability\n",
        "n = len(x)\n",
        "mean_ = sum(x) / n\n",
        "vari = sum((item - mean_)**2 for item in x) / (n - 1)\n",
        "var_ = statistics.variance(x)"
      ],
      "metadata": {
        "id": "DwUg9FXo6xUr"
      },
      "execution_count": null,
      "outputs": []
    },
    {
      "cell_type": "code",
      "source": [
        "#If you have nan values among your data, then statistics.variance() will return nan:\n",
        "#statistics.variance(x_with_nan)\n",
        "#t’s very important to specify the parameter ddof=1. That’s how you set the delta degrees of freedom to 1.\n",
        "# This parameter allows the proper calculation of 𝑠², with (𝑛 − 1) in the denominator instead of 𝑛.\n",
        "var_ = np.var(y, ddof=1)\n",
        "var_\n",
        "#If you have nan values in the dataset, then np.var() and .var() will return nan:np.var(y_with_nan, ddof=1)\n",
        "#If you want to skip nan values, then you should use np.nanvar():np.nanvar(y_with_nan, ddof=1)\n"
      ],
      "metadata": {
        "colab": {
          "base_uri": "https://localhost:8080/"
        },
        "id": "cN1mRx9j7pW5",
        "outputId": "33001f87-6c1d-433c-c859-0454307d906c"
      },
      "execution_count": null,
      "outputs": [
        {
          "output_type": "execute_result",
          "data": {
            "text/plain": [
              "123.19999999999999"
            ]
          },
          "metadata": {},
          "execution_count": 89
        }
      ]
    },
    {
      "cell_type": "code",
      "source": [
        "#You calculate the population variance\n",
        "#Replace (n - 1) with n in the pure Python implementation.\n",
        "#Use statistics.pvariance() instead of statistics.variance().\n",
        "#Specify the parameter ddof=0 if you use NumPy or pandas. In NumPy, you can omit ddof because its default value is 0.\n",
        "np.std(y, ddof=1)\n",
        "#Don’t forget to set the delta degrees of freedom to 1!\n",
        "#pd.Series objects also have the method .std() that skips nan by default:"
      ],
      "metadata": {
        "id": "eRzIx9Mw9Ccm",
        "colab": {
          "base_uri": "https://localhost:8080/"
        },
        "outputId": "22384b27-18af-4585-fb8e-002700a449cb"
      },
      "execution_count": null,
      "outputs": [
        {
          "output_type": "execute_result",
          "data": {
            "text/plain": [
              "11.099549540409285"
            ]
          },
          "metadata": {},
          "execution_count": 90
        }
      ]
    },
    {
      "cell_type": "code",
      "source": [
        "#Standard Deviation\n",
        "std_ = var_ ** 0.5\n",
        "std_ = statistics.stdev(x)\n",
        "#calculate the mean if you provide it explicitly as the second argument: statistics.stdev(x, mean_).\n",
        "#If there are nan values in the dataset, then they’ll return nan.\n",
        "#To ignore nan values, you should use np.nanstd(). You use std(), .std(), and nanstd() from NumPy as you would use var(), .var(), and nanvar():\n",
        "\n"
      ],
      "metadata": {
        "id": "qS7bE6y59Tyi"
      },
      "execution_count": null,
      "outputs": []
    },
    {
      "cell_type": "code",
      "source": [
        "#population standard deviation\n",
        "#Use statistics.pstdev()\n",
        "#Specify the parameter ddof=0 if you use NumPy or pandas. In NumPy, you can omit ddof because its default value is 0."
      ],
      "metadata": {
        "id": "xmujZ9SP-qz7"
      },
      "execution_count": null,
      "outputs": []
    },
    {
      "cell_type": "code",
      "source": [
        "#Skewness\n",
        "#One common expression to calculate the skewness of the dataset 𝑥 with 𝑛 elements is (𝑛² / ((𝑛 − 1)(𝑛 − 2))) (Σᵢ(𝑥ᵢ − mean(𝑥))³ / (𝑛𝑠³)).\n",
        "#A simpler expression is Σᵢ(𝑥ᵢ − mean(𝑥))³ 𝑛 / ((𝑛 − 1)(𝑛 − 2)𝑠³), where 𝑖 = 1, 2, …, 𝑛 and mean(𝑥) is the sample mean of 𝑥\n",
        "#negative skewness values indicate that there’s a dominant tail on the left side,\n",
        "#Positive skewness values correspond to a longer or fatter tail on the right side\n"
      ],
      "metadata": {
        "id": "Ng-dIHAk_OUZ"
      },
      "execution_count": null,
      "outputs": []
    },
    {
      "cell_type": "code",
      "source": [
        "x = [8.0, 1, 2.5, 4, 28.0]\n",
        "n = len(x)\n",
        "mean_ = sum(x) / n\n",
        "var_ = sum((item - mean_)**2 for item in x) / (n - 1)\n",
        "std_ = var_ ** 0.5\n",
        "skew_ = (sum((item - mean_)**3 for item in x)* n / ((n - 1) * (n - 2) * std_**3))\n",
        "print(skew_,':- The skewness is positive, so x has a right-side tail.')"
      ],
      "metadata": {
        "colab": {
          "base_uri": "https://localhost:8080/"
        },
        "id": "tI29hLdADI7b",
        "outputId": "8c48a3be-8c6b-40b8-b0b7-ed18893d2ee7"
      },
      "execution_count": null,
      "outputs": [
        {
          "output_type": "stream",
          "name": "stdout",
          "text": [
            "1.9470432273905929 :- The skewness is positive, so x has a right-side tail.\n"
          ]
        }
      ]
    },
    {
      "cell_type": "code",
      "source": [
        "y, y_with_nan = np.array(x), np.array(x_with_nan)\n",
        "print(scipy.stats.skew(y, bias=False))\n",
        "\n",
        "scipy.stats.skew(y_with_nan, bias=False)\n"
      ],
      "metadata": {
        "colab": {
          "base_uri": "https://localhost:8080/"
        },
        "id": "IuK8_3CPDd8B",
        "outputId": "e5d60b2f-13a2-4d33-b1fc-1748a8db2459"
      },
      "execution_count": null,
      "outputs": [
        {
          "output_type": "stream",
          "name": "stdout",
          "text": [
            "1.9470432273905927\n"
          ]
        },
        {
          "output_type": "execute_result",
          "data": {
            "text/plain": [
              "nan"
            ]
          },
          "metadata": {},
          "execution_count": 95
        }
      ]
    },
    {
      "cell_type": "code",
      "source": [
        "#pandas Series objects have the method .skew() that also returns the skewness of a dataset: ignores nan values by default,\n",
        "z, z_with_nan = pd.Series(x), pd.Series(x_with_nan)\n",
        "print(z.skew())\n",
        "\n",
        "z_with_nan.skew()\n"
      ],
      "metadata": {
        "id": "qBh_0HQ6D5MB",
        "colab": {
          "base_uri": "https://localhost:8080/"
        },
        "outputId": "e55ed303-bf22-4abe-819c-8134eb7f7795"
      },
      "execution_count": null,
      "outputs": [
        {
          "output_type": "stream",
          "name": "stdout",
          "text": [
            "1.9470432273905924\n"
          ]
        },
        {
          "output_type": "execute_result",
          "data": {
            "text/plain": [
              "1.9470432273905924"
            ]
          },
          "metadata": {},
          "execution_count": 96
        }
      ]
    },
    {
      "cell_type": "code",
      "source": [
        "#Percentiles:Each part has approximately the same number of items.\n",
        "#If you want to divide your data into several intervals, then you can use statistics.quantiles():\n",
        "x = [-5.0, -1.1, 0.1, 2.0, 8.0, 12.8, 21.0, 25.8, 41.0]\n",
        "print(statistics.quantiles(x, n=2),'median')\n",
        "statistics.quantiles(x, n=4, method='inclusive')#n defines the number of resulting equal-probability percentiles"
      ],
      "metadata": {
        "colab": {
          "base_uri": "https://localhost:8080/"
        },
        "id": "pJZnhoHJEX3D",
        "outputId": "7765fa83-ffff-49c4-ea8d-d676c97eed9d"
      },
      "execution_count": null,
      "outputs": [
        {
          "output_type": "stream",
          "name": "stdout",
          "text": [
            "[8.0] median\n"
          ]
        },
        {
          "output_type": "execute_result",
          "data": {
            "text/plain": [
              "[0.1, 8.0, 21.0]"
            ]
          },
          "metadata": {},
          "execution_count": 97
        }
      ]
    },
    {
      "cell_type": "code",
      "source": [
        "y = np.array(x)\n",
        "print(np.percentile(y, 5))\n",
        "np.percentile(y, [25, 50, 75])\n",
        "np.median(y)\n",
        "#If you want to ignore nan values, then use np.nanpercentile() instead:\n",
        "np.nanpercentile(y_with_nan, [25, 50, 75])"
      ],
      "metadata": {
        "colab": {
          "base_uri": "https://localhost:8080/"
        },
        "id": "Di9tEH9YG2VV",
        "outputId": "535bed7d-c352-48b9-a00a-cd7d942eac15"
      },
      "execution_count": null,
      "outputs": [
        {
          "output_type": "stream",
          "name": "stdout",
          "text": [
            "-3.44\n"
          ]
        },
        {
          "output_type": "execute_result",
          "data": {
            "text/plain": [
              "array([2.5, 4. , 8. ])"
            ]
          },
          "metadata": {},
          "execution_count": 98
        }
      ]
    },
    {
      "cell_type": "code",
      "source": [
        "#NumPy also offers you very similar functionality in quantile() and nanquantile().\n",
        "#If you use them, then you’ll need to provide the quantile values as the numbers between 0 and 1 instead of percentiles:\n",
        "np.quantile(y, 0.05),np.quantile(y, [0.25, 0.5, 0.75]),np.nanquantile(y_with_nan, [0.25, 0.5, 0.75])"
      ],
      "metadata": {
        "colab": {
          "base_uri": "https://localhost:8080/"
        },
        "id": "nZS-jBfiIMJV",
        "outputId": "b65771cb-af89-4315-80d2-e6c6be36e04d"
      },
      "execution_count": null,
      "outputs": [
        {
          "output_type": "execute_result",
          "data": {
            "text/plain": [
              "(-3.44, array([ 0.1,  8. , 21. ]), array([2.5, 4. , 8. ]))"
            ]
          },
          "metadata": {},
          "execution_count": 99
        }
      ]
    },
    {
      "cell_type": "code",
      "source": [
        "z, z_with_nan = pd.Series(y), pd.Series(y_with_nan)\n",
        "z.quantile(0.05)\n",
        "z.quantile([0.25, 0.5, 0.75])"
      ],
      "metadata": {
        "colab": {
          "base_uri": "https://localhost:8080/"
        },
        "id": "yyRMA1auIZ6x",
        "outputId": "c9a73905-658f-4e7a-d6b0-cdba0f00373d"
      },
      "execution_count": null,
      "outputs": [
        {
          "output_type": "execute_result",
          "data": {
            "text/plain": [
              "0.25     0.1\n",
              "0.50     8.0\n",
              "0.75    21.0\n",
              "dtype: float64"
            ]
          },
          "metadata": {},
          "execution_count": 100
        }
      ]
    },
    {
      "cell_type": "code",
      "source": [
        "#Ranges\n",
        "np.ptp(y)\n",
        "#max() and min() from the Python standard library\n",
        "#amax() and amin() from NumPy\n",
        "#nanmax() and nanmin() from NumPy to ignore nan values\n",
        "#.max() and .min() from NumPy\n",
        "#.max() and .min() from pandas to ignore nan values by default"
      ],
      "metadata": {
        "colab": {
          "base_uri": "https://localhost:8080/"
        },
        "id": "s4G42UPIIl7R",
        "outputId": "507c7570-fa98-47dd-a7af-748a47b5bd87"
      },
      "execution_count": null,
      "outputs": [
        {
          "output_type": "execute_result",
          "data": {
            "text/plain": [
              "46.0"
            ]
          },
          "metadata": {},
          "execution_count": 101
        }
      ]
    },
    {
      "cell_type": "code",
      "source": [
        "quartiles = z.quantile([0.25, 0.75])\n",
        "quartiles[0.75] - quartiles[0.25]"
      ],
      "metadata": {
        "colab": {
          "base_uri": "https://localhost:8080/"
        },
        "id": "4di-_nZ6I_h2",
        "outputId": "91f8b9f6-a4b9-491e-d25f-726a157af78f"
      },
      "execution_count": null,
      "outputs": [
        {
          "output_type": "execute_result",
          "data": {
            "text/plain": [
              "20.9"
            ]
          },
          "metadata": {},
          "execution_count": 102
        }
      ]
    },
    {
      "cell_type": "code",
      "source": [
        "#Summary of Descriptive Statistics\n",
        "result = scipy.stats.describe(y, ddof=1, bias=False)\n",
        "result.nobs#no. of observations\n",
        "result.minmax[0]  # Min\n",
        "result.minmax[1]  # Max\n",
        "result.skewness\n",
        "result.kurtosis"
      ],
      "metadata": {
        "colab": {
          "base_uri": "https://localhost:8080/"
        },
        "id": "QE0LcXovU6Da",
        "outputId": "67d15fbd-006d-4e6d-d69c-c0b280e06ccf"
      },
      "execution_count": null,
      "outputs": [
        {
          "output_type": "execute_result",
          "data": {
            "text/plain": [
              "0.14770623629658886"
            ]
          },
          "metadata": {},
          "execution_count": 103
        }
      ]
    },
    {
      "cell_type": "code",
      "source": [
        "#Measures of Correlation Between Pairs of Data\n",
        "# Positive correlation x directly to y\n",
        "#negative correlation x inversly to y\n",
        "#Weak or no correlation exists"
      ],
      "metadata": {
        "id": "4FU1a0kXVP54"
      },
      "execution_count": null,
      "outputs": []
    },
    {
      "cell_type": "code",
      "source": [
        "#Covariance\n",
        "#The sample covariance is a measure that quantifies the strength\n",
        "# and direction of a relationship between a pair of variables:\n",
        "#If the correlation is positive, then the covariance is positive, as well.\n",
        "# A stronger relationship corresponds to a higher value of the covariance.\n",
        "#If the correlation is negative, then the covariance is negative, as well.\n",
        "# A stronger relationship corresponds to a lower (or higher absolute) value of the covariance.\n",
        "#If the correlation is weak, then the covariance is close to zero.\n",
        "\n",
        "#Covariance indicates the direction of the linear relationship between variables.\n",
        "#Correlation measures both the strength and direction of the linear relationship between two variables\n"
      ],
      "metadata": {
        "id": "Bqh9wJtxxnbs"
      },
      "execution_count": null,
      "outputs": []
    },
    {
      "cell_type": "code",
      "source": [
        "x = list(range(-10, 11))\n",
        "y = [0, 2, 2, 2, 2, 3, 3, 6, 7, 4, 7, 6, 6, 9, 4, 5, 5, 10, 11, 12, 14]\n",
        "x_, y_ = np.array(x), np.array(y)\n",
        "x__, y__ = pd.Series(x_), pd.Series(y_)"
      ],
      "metadata": {
        "id": "fe0PGsT9yl0E"
      },
      "execution_count": null,
      "outputs": []
    },
    {
      "cell_type": "code",
      "source": [
        "n = len(x)\n",
        "mean_x, mean_y = sum(x) / n, sum(y) / n\n",
        "cov_xy = (sum((x[k] - mean_x) * (y[k] - mean_y) for k in range(n)) / (n - 1))\n",
        "cov_xy\n"
      ],
      "metadata": {
        "colab": {
          "base_uri": "https://localhost:8080/"
        },
        "id": "cAIniZ28yqrZ",
        "outputId": "18d89963-2dbf-4e1a-f917-2f22cfe285b1"
      },
      "execution_count": null,
      "outputs": [
        {
          "output_type": "execute_result",
          "data": {
            "text/plain": [
              "19.95"
            ]
          },
          "metadata": {},
          "execution_count": 107
        }
      ]
    },
    {
      "cell_type": "code",
      "source": [
        "#NumPy has the function cov() that returns the covariance matrix:\n",
        "cov_matrix = np.cov(x_, y_)\n",
        "print(cov_matrix)\n",
        "#The upper-left element of the covariance matrix is the covariance of x and x, or the variance of x.\n",
        "# Similarly, the lower-right element is the covariance of y and y, or the variance of y\n",
        "a,b=x_.var(ddof=1),y_.var(ddof=1)\n",
        "#The other two elements of the covariance matrix are equal and represent the actual covariance between x and y:\n",
        "cov_xy = cov_matrix[0, 1]\n",
        "\n",
        "cov_xy = cov_matrix[1, 0]\n"
      ],
      "metadata": {
        "colab": {
          "base_uri": "https://localhost:8080/"
        },
        "id": "4aFpO7koy25a",
        "outputId": "0ed3613d-ba9c-48ef-fd61-bef87785bed5"
      },
      "execution_count": null,
      "outputs": [
        {
          "output_type": "stream",
          "name": "stdout",
          "text": [
            "[[38.5        19.95      ]\n",
            " [19.95       13.91428571]]\n"
          ]
        }
      ]
    },
    {
      "cell_type": "code",
      "source": [
        "#pandas Series have the method .cov() that you can use to calculate the covariance:\n",
        "cov_xy = x__.cov(y__)\n",
        "cov_xy = y__.cov(x__)"
      ],
      "metadata": {
        "id": "-2Ksb8mV0Os6"
      },
      "execution_count": null,
      "outputs": []
    },
    {
      "cell_type": "code",
      "source": [
        "#Correlation Coefficienthe correlation coefficient,\n",
        "# or Pearson product-moment correlation coefficient, is denoted by the symbol 𝑟\n",
        "#The value 𝑟 > 0 indicates positive correlation.\n",
        "#The value 𝑟 < 0 indicates negative correlation.\n",
        "#The value r = 1 is the maximum possible value of 𝑟. It corresponds to a perfect positive linear relationship between variables.\n",
        "#The value r = −1 is the minimum possible value of 𝑟. It corresponds to a perfect negative linear relationship between variables.\n",
        "#The value r ≈ 0, or when 𝑟 is around zero, means that the correlation between variables is weak.\n",
        "var_x = sum((item - mean_x)**2 for item in x) / (n - 1)\n",
        "var_y = sum((item - mean_y)**2 for item in y) / (n - 1)\n",
        "std_x, std_y = var_x ** 0.5, var_y ** 0.5\n",
        "r = cov_xy / (std_x * std_y)\n",
        "r\n"
      ],
      "metadata": {
        "colab": {
          "base_uri": "https://localhost:8080/"
        },
        "id": "dZ7Jbwz10a_7",
        "outputId": "ca832422-a2e5-412d-bddc-3a84fff32e1c"
      },
      "execution_count": null,
      "outputs": [
        {
          "output_type": "execute_result",
          "data": {
            "text/plain": [
              "0.861950005631606"
            ]
          },
          "metadata": {},
          "execution_count": 110
        }
      ]
    },
    {
      "cell_type": "code",
      "source": [
        "#scipy.stats has the routine pearsonr() that calculates the correlation coefficient and the 𝑝-value:\n",
        "r, p = scipy.stats.pearsonr(x_, y_)\n",
        "r,p"
      ],
      "metadata": {
        "colab": {
          "base_uri": "https://localhost:8080/"
        },
        "id": "MBECQwgo1M2N",
        "outputId": "0627a54e-0a0e-4a9c-9fab-9a039415ad92"
      },
      "execution_count": null,
      "outputs": [
        {
          "output_type": "execute_result",
          "data": {
            "text/plain": [
              "(0.8619500056316061, 5.122760847201132e-07)"
            ]
          },
          "metadata": {},
          "execution_count": 111
        }
      ]
    },
    {
      "cell_type": "code",
      "source": [
        "#Similar to the case of the covariance matrix,\n",
        "#you can apply np.corrcoef() with x_ and y_ as the arguments and get the correlation coefficient matrix:\n",
        "corr_matrix = np.corrcoef(x_, y_)\n",
        "corr_matrix\n",
        "#inregress() takes x_ and y_, performs linear regression, and\n",
        "#returns the results. slope and intercept define the equation of the regression line, while rvalue is the correlation coefficient.\n",
        "#To access particular values from the result of linregress(), including the correlation coefficient, use dot notation:\n",
        "scipy.stats.linregress(x_, y_)"
      ],
      "metadata": {
        "colab": {
          "base_uri": "https://localhost:8080/"
        },
        "id": "55aHKzML1YGm",
        "outputId": "7d7caf49-8226-46db-a51a-2373fe075b22"
      },
      "execution_count": null,
      "outputs": [
        {
          "output_type": "execute_result",
          "data": {
            "text/plain": [
              "LinregressResult(slope=0.5181818181818181, intercept=5.714285714285714, rvalue=0.861950005631606, pvalue=5.122760847201164e-07, stderr=0.06992387660074979, intercept_stderr=0.4234100995002589)"
            ]
          },
          "metadata": {},
          "execution_count": 112
        }
      ]
    },
    {
      "cell_type": "code",
      "source": [
        "#pandas Series have the method .corr() for calculating the correlation coefficient:\n",
        "r = x__.corr(y__)\n",
        "r\n",
        "\n",
        "r = y__.corr(x__)\n",
        "r\n"
      ],
      "metadata": {
        "colab": {
          "base_uri": "https://localhost:8080/"
        },
        "id": "0rksOas_2Ab0",
        "outputId": "4f372a58-b425-4f01-fcf6-235028a5eca7"
      },
      "execution_count": null,
      "outputs": [
        {
          "output_type": "execute_result",
          "data": {
            "text/plain": [
              "0.861950005631606"
            ]
          },
          "metadata": {},
          "execution_count": 113
        }
      ]
    },
    {
      "cell_type": "code",
      "source": [
        "#Start by creating a 2D NumPy array:np.mean(a)\n",
        "a = np.array([[1, 1, 1],\n",
        "              [2, 3, 1],\n",
        "              [4, 9, 2],\n",
        "              [8, 27, 4],\n",
        "              [16, 1, 1]])\n",
        "a.mean(),np.median(a),a.var(ddof=1)"
      ],
      "metadata": {
        "colab": {
          "base_uri": "https://localhost:8080/"
        },
        "id": "x2K-tatC-5iO",
        "outputId": "3815aff6-05eb-491b-cdb2-ee8d156d7107"
      },
      "execution_count": null,
      "outputs": [
        {
          "output_type": "execute_result",
          "data": {
            "text/plain": [
              "(5.4, 2.0, 53.40000000000001)"
            ]
          },
          "metadata": {},
          "execution_count": 114
        }
      ]
    },
    {
      "cell_type": "code",
      "source": [
        "#Axis=None This behavior is often the default in NumPy.\n",
        "#axis=0 across all rows, that .This behavior is often the default for SciPy statistical functions.\n",
        "#axis=1 across all columns, that is, for each row of the array.\n",
        "np.mean(a, axis=1),np.median(a, axis=0),a.var(axis=1, ddof=1),scipy.stats.gmean(a)  # Default: axis=0\n",
        "#$You can get a Python statistics summary with a single function call for 2D data with scipy.stats.describe().1D also it works"
      ],
      "metadata": {
        "colab": {
          "base_uri": "https://localhost:8080/"
        },
        "id": "DUe-kwR4_M_Z",
        "outputId": "5fe6e01f-4e66-4783-9545-077d1597ae77"
      },
      "execution_count": null,
      "outputs": [
        {
          "output_type": "execute_result",
          "data": {
            "text/plain": [
              "(array([ 1.,  2.,  5., 13.,  6.]),\n",
              " array([4., 3., 1.]),\n",
              " array([  0.,   1.,  13., 151.,  75.]),\n",
              " array([4.        , 3.73719282, 1.51571657]))"
            ]
          },
          "metadata": {},
          "execution_count": 115
        }
      ]
    },
    {
      "cell_type": "code",
      "source": [
        "#DataFrames\n",
        "row_names = ['first', 'second', 'third', 'fourth', 'fifth']\n",
        "col_names = ['A', 'B', 'C']\n",
        "df = pd.DataFrame(a, index=row_names, columns=col_names)\n",
        "df"
      ],
      "metadata": {
        "colab": {
          "base_uri": "https://localhost:8080/",
          "height": 206
        },
        "id": "0NWE3ZHHAZuH",
        "outputId": "81bcba7d-5abe-42cd-ec5f-8551f4931067"
      },
      "execution_count": null,
      "outputs": [
        {
          "output_type": "execute_result",
          "data": {
            "text/plain": [
              "         A   B  C\n",
              "first    1   1  1\n",
              "second   2   3  1\n",
              "third    4   9  2\n",
              "fourth   8  27  4\n",
              "fifth   16   1  1"
            ],
            "text/html": [
              "\n",
              "  <div id=\"df-33b0ebc8-81ce-4b4f-9106-210cb9c46165\" class=\"colab-df-container\">\n",
              "    <div>\n",
              "<style scoped>\n",
              "    .dataframe tbody tr th:only-of-type {\n",
              "        vertical-align: middle;\n",
              "    }\n",
              "\n",
              "    .dataframe tbody tr th {\n",
              "        vertical-align: top;\n",
              "    }\n",
              "\n",
              "    .dataframe thead th {\n",
              "        text-align: right;\n",
              "    }\n",
              "</style>\n",
              "<table border=\"1\" class=\"dataframe\">\n",
              "  <thead>\n",
              "    <tr style=\"text-align: right;\">\n",
              "      <th></th>\n",
              "      <th>A</th>\n",
              "      <th>B</th>\n",
              "      <th>C</th>\n",
              "    </tr>\n",
              "  </thead>\n",
              "  <tbody>\n",
              "    <tr>\n",
              "      <th>first</th>\n",
              "      <td>1</td>\n",
              "      <td>1</td>\n",
              "      <td>1</td>\n",
              "    </tr>\n",
              "    <tr>\n",
              "      <th>second</th>\n",
              "      <td>2</td>\n",
              "      <td>3</td>\n",
              "      <td>1</td>\n",
              "    </tr>\n",
              "    <tr>\n",
              "      <th>third</th>\n",
              "      <td>4</td>\n",
              "      <td>9</td>\n",
              "      <td>2</td>\n",
              "    </tr>\n",
              "    <tr>\n",
              "      <th>fourth</th>\n",
              "      <td>8</td>\n",
              "      <td>27</td>\n",
              "      <td>4</td>\n",
              "    </tr>\n",
              "    <tr>\n",
              "      <th>fifth</th>\n",
              "      <td>16</td>\n",
              "      <td>1</td>\n",
              "      <td>1</td>\n",
              "    </tr>\n",
              "  </tbody>\n",
              "</table>\n",
              "</div>\n",
              "    <div class=\"colab-df-buttons\">\n",
              "\n",
              "  <div class=\"colab-df-container\">\n",
              "    <button class=\"colab-df-convert\" onclick=\"convertToInteractive('df-33b0ebc8-81ce-4b4f-9106-210cb9c46165')\"\n",
              "            title=\"Convert this dataframe to an interactive table.\"\n",
              "            style=\"display:none;\">\n",
              "\n",
              "  <svg xmlns=\"http://www.w3.org/2000/svg\" height=\"24px\" viewBox=\"0 -960 960 960\">\n",
              "    <path d=\"M120-120v-720h720v720H120Zm60-500h600v-160H180v160Zm220 220h160v-160H400v160Zm0 220h160v-160H400v160ZM180-400h160v-160H180v160Zm440 0h160v-160H620v160ZM180-180h160v-160H180v160Zm440 0h160v-160H620v160Z\"/>\n",
              "  </svg>\n",
              "    </button>\n",
              "\n",
              "  <style>\n",
              "    .colab-df-container {\n",
              "      display:flex;\n",
              "      gap: 12px;\n",
              "    }\n",
              "\n",
              "    .colab-df-convert {\n",
              "      background-color: #E8F0FE;\n",
              "      border: none;\n",
              "      border-radius: 50%;\n",
              "      cursor: pointer;\n",
              "      display: none;\n",
              "      fill: #1967D2;\n",
              "      height: 32px;\n",
              "      padding: 0 0 0 0;\n",
              "      width: 32px;\n",
              "    }\n",
              "\n",
              "    .colab-df-convert:hover {\n",
              "      background-color: #E2EBFA;\n",
              "      box-shadow: 0px 1px 2px rgba(60, 64, 67, 0.3), 0px 1px 3px 1px rgba(60, 64, 67, 0.15);\n",
              "      fill: #174EA6;\n",
              "    }\n",
              "\n",
              "    .colab-df-buttons div {\n",
              "      margin-bottom: 4px;\n",
              "    }\n",
              "\n",
              "    [theme=dark] .colab-df-convert {\n",
              "      background-color: #3B4455;\n",
              "      fill: #D2E3FC;\n",
              "    }\n",
              "\n",
              "    [theme=dark] .colab-df-convert:hover {\n",
              "      background-color: #434B5C;\n",
              "      box-shadow: 0px 1px 3px 1px rgba(0, 0, 0, 0.15);\n",
              "      filter: drop-shadow(0px 1px 2px rgba(0, 0, 0, 0.3));\n",
              "      fill: #FFFFFF;\n",
              "    }\n",
              "  </style>\n",
              "\n",
              "    <script>\n",
              "      const buttonEl =\n",
              "        document.querySelector('#df-33b0ebc8-81ce-4b4f-9106-210cb9c46165 button.colab-df-convert');\n",
              "      buttonEl.style.display =\n",
              "        google.colab.kernel.accessAllowed ? 'block' : 'none';\n",
              "\n",
              "      async function convertToInteractive(key) {\n",
              "        const element = document.querySelector('#df-33b0ebc8-81ce-4b4f-9106-210cb9c46165');\n",
              "        const dataTable =\n",
              "          await google.colab.kernel.invokeFunction('convertToInteractive',\n",
              "                                                    [key], {});\n",
              "        if (!dataTable) return;\n",
              "\n",
              "        const docLinkHtml = 'Like what you see? Visit the ' +\n",
              "          '<a target=\"_blank\" href=https://colab.research.google.com/notebooks/data_table.ipynb>data table notebook</a>'\n",
              "          + ' to learn more about interactive tables.';\n",
              "        element.innerHTML = '';\n",
              "        dataTable['output_type'] = 'display_data';\n",
              "        await google.colab.output.renderOutput(dataTable, element);\n",
              "        const docLink = document.createElement('div');\n",
              "        docLink.innerHTML = docLinkHtml;\n",
              "        element.appendChild(docLink);\n",
              "      }\n",
              "    </script>\n",
              "  </div>\n",
              "\n",
              "\n",
              "<div id=\"df-0467ed03-3362-47e3-a711-1b8716908036\">\n",
              "  <button class=\"colab-df-quickchart\" onclick=\"quickchart('df-0467ed03-3362-47e3-a711-1b8716908036')\"\n",
              "            title=\"Suggest charts\"\n",
              "            style=\"display:none;\">\n",
              "\n",
              "<svg xmlns=\"http://www.w3.org/2000/svg\" height=\"24px\"viewBox=\"0 0 24 24\"\n",
              "     width=\"24px\">\n",
              "    <g>\n",
              "        <path d=\"M19 3H5c-1.1 0-2 .9-2 2v14c0 1.1.9 2 2 2h14c1.1 0 2-.9 2-2V5c0-1.1-.9-2-2-2zM9 17H7v-7h2v7zm4 0h-2V7h2v10zm4 0h-2v-4h2v4z\"/>\n",
              "    </g>\n",
              "</svg>\n",
              "  </button>\n",
              "\n",
              "<style>\n",
              "  .colab-df-quickchart {\n",
              "      --bg-color: #E8F0FE;\n",
              "      --fill-color: #1967D2;\n",
              "      --hover-bg-color: #E2EBFA;\n",
              "      --hover-fill-color: #174EA6;\n",
              "      --disabled-fill-color: #AAA;\n",
              "      --disabled-bg-color: #DDD;\n",
              "  }\n",
              "\n",
              "  [theme=dark] .colab-df-quickchart {\n",
              "      --bg-color: #3B4455;\n",
              "      --fill-color: #D2E3FC;\n",
              "      --hover-bg-color: #434B5C;\n",
              "      --hover-fill-color: #FFFFFF;\n",
              "      --disabled-bg-color: #3B4455;\n",
              "      --disabled-fill-color: #666;\n",
              "  }\n",
              "\n",
              "  .colab-df-quickchart {\n",
              "    background-color: var(--bg-color);\n",
              "    border: none;\n",
              "    border-radius: 50%;\n",
              "    cursor: pointer;\n",
              "    display: none;\n",
              "    fill: var(--fill-color);\n",
              "    height: 32px;\n",
              "    padding: 0;\n",
              "    width: 32px;\n",
              "  }\n",
              "\n",
              "  .colab-df-quickchart:hover {\n",
              "    background-color: var(--hover-bg-color);\n",
              "    box-shadow: 0 1px 2px rgba(60, 64, 67, 0.3), 0 1px 3px 1px rgba(60, 64, 67, 0.15);\n",
              "    fill: var(--button-hover-fill-color);\n",
              "  }\n",
              "\n",
              "  .colab-df-quickchart-complete:disabled,\n",
              "  .colab-df-quickchart-complete:disabled:hover {\n",
              "    background-color: var(--disabled-bg-color);\n",
              "    fill: var(--disabled-fill-color);\n",
              "    box-shadow: none;\n",
              "  }\n",
              "\n",
              "  .colab-df-spinner {\n",
              "    border: 2px solid var(--fill-color);\n",
              "    border-color: transparent;\n",
              "    border-bottom-color: var(--fill-color);\n",
              "    animation:\n",
              "      spin 1s steps(1) infinite;\n",
              "  }\n",
              "\n",
              "  @keyframes spin {\n",
              "    0% {\n",
              "      border-color: transparent;\n",
              "      border-bottom-color: var(--fill-color);\n",
              "      border-left-color: var(--fill-color);\n",
              "    }\n",
              "    20% {\n",
              "      border-color: transparent;\n",
              "      border-left-color: var(--fill-color);\n",
              "      border-top-color: var(--fill-color);\n",
              "    }\n",
              "    30% {\n",
              "      border-color: transparent;\n",
              "      border-left-color: var(--fill-color);\n",
              "      border-top-color: var(--fill-color);\n",
              "      border-right-color: var(--fill-color);\n",
              "    }\n",
              "    40% {\n",
              "      border-color: transparent;\n",
              "      border-right-color: var(--fill-color);\n",
              "      border-top-color: var(--fill-color);\n",
              "    }\n",
              "    60% {\n",
              "      border-color: transparent;\n",
              "      border-right-color: var(--fill-color);\n",
              "    }\n",
              "    80% {\n",
              "      border-color: transparent;\n",
              "      border-right-color: var(--fill-color);\n",
              "      border-bottom-color: var(--fill-color);\n",
              "    }\n",
              "    90% {\n",
              "      border-color: transparent;\n",
              "      border-bottom-color: var(--fill-color);\n",
              "    }\n",
              "  }\n",
              "</style>\n",
              "\n",
              "  <script>\n",
              "    async function quickchart(key) {\n",
              "      const quickchartButtonEl =\n",
              "        document.querySelector('#' + key + ' button');\n",
              "      quickchartButtonEl.disabled = true;  // To prevent multiple clicks.\n",
              "      quickchartButtonEl.classList.add('colab-df-spinner');\n",
              "      try {\n",
              "        const charts = await google.colab.kernel.invokeFunction(\n",
              "            'suggestCharts', [key], {});\n",
              "      } catch (error) {\n",
              "        console.error('Error during call to suggestCharts:', error);\n",
              "      }\n",
              "      quickchartButtonEl.classList.remove('colab-df-spinner');\n",
              "      quickchartButtonEl.classList.add('colab-df-quickchart-complete');\n",
              "    }\n",
              "    (() => {\n",
              "      let quickchartButtonEl =\n",
              "        document.querySelector('#df-0467ed03-3362-47e3-a711-1b8716908036 button');\n",
              "      quickchartButtonEl.style.display =\n",
              "        google.colab.kernel.accessAllowed ? 'block' : 'none';\n",
              "    })();\n",
              "  </script>\n",
              "</div>\n",
              "    </div>\n",
              "  </div>\n"
            ]
          },
          "metadata": {},
          "execution_count": 116
        }
      ]
    },
    {
      "cell_type": "code",
      "source": [
        "df['A'],df['A'].var()\n",
        "#Sometimes, you might want to use a DataFrame as a NumPy array and apply some function to it.\n",
        "# It’s possible to get all data from a DataFrame with .values or .to_numpy():\n",
        "df.values , df.to_numpy()#df.values and df.to_numpy() give you a NumPy array with all items from the DataFrame without row and column labels"
      ],
      "metadata": {
        "colab": {
          "base_uri": "https://localhost:8080/"
        },
        "id": "yPWL8PBEAf-r",
        "outputId": "c13c0372-f9f9-4617-8723-eb73e764209e"
      },
      "execution_count": null,
      "outputs": [
        {
          "output_type": "execute_result",
          "data": {
            "text/plain": [
              "(array([[ 1,  1,  1],\n",
              "        [ 2,  3,  1],\n",
              "        [ 4,  9,  2],\n",
              "        [ 8, 27,  4],\n",
              "        [16,  1,  1]]),\n",
              " array([[ 1,  1,  1],\n",
              "        [ 2,  3,  1],\n",
              "        [ 4,  9,  2],\n",
              "        [ 8, 27,  4],\n",
              "        [16,  1,  1]]))"
            ]
          },
          "metadata": {},
          "execution_count": 117
        }
      ]
    },
    {
      "cell_type": "code",
      "source": [
        "#statistics summary:df.describe()\n",
        "df.describe().at['mean', 'A']#only one you want"
      ],
      "metadata": {
        "colab": {
          "base_uri": "https://localhost:8080/"
        },
        "id": "h9aZI5nEA-Fd",
        "outputId": "aad4f6ff-38cb-4e35-dac4-c047ae67071c"
      },
      "execution_count": null,
      "outputs": [
        {
          "output_type": "execute_result",
          "data": {
            "text/plain": [
              "6.2"
            ]
          },
          "metadata": {},
          "execution_count": 118
        }
      ]
    },
    {
      "cell_type": "code",
      "source": [
        "#Visualizing Data present your data by Box plots,Histograms,Pie charts,Bar charts,X-Y plots,Heatmaps\n",
        "#Normally distributed numbers are generated with np.random.randn().\n",
        "#Uniformly distributed integers are generated with np.random.randint()\n"
      ],
      "metadata": {
        "id": "-etdYCOTCFXb"
      },
      "execution_count": null,
      "outputs": []
    },
    {
      "cell_type": "code",
      "source": [
        "#Box Plots: represent descriptive statistics\n",
        "#It can show the range, interquartile range, median, mode, outliers, and all quartiles.\n",
        "import matplotlib.pyplot as plt\n",
        "\n",
        "np.random.seed(seed=0)\n",
        "x = np.random.randn(1000)\n",
        "y = np.random.randn(100)\n",
        "z = np.random.randn(10)\n",
        "fig, ax = plt.subplots()\n",
        "ax.boxplot((x, y, z), vert=False, showmeans=True, meanline=True,\n",
        "           labels=('x', 'y', 'z'), patch_artist=True,\n",
        "           medianprops={'linewidth': 2, 'color': 'purple'},\n",
        "           meanprops={'linewidth': 2, 'color': 'red'})\n",
        "plt.show()"
      ],
      "metadata": {
        "colab": {
          "base_uri": "https://localhost:8080/",
          "height": 430
        },
        "id": "ttBdpXYaDFzX",
        "outputId": "33bfed33-70de-4cdb-e97f-5f2386b908d4"
      },
      "execution_count": null,
      "outputs": [
        {
          "output_type": "display_data",
          "data": {
            "text/plain": [
              "<Figure size 640x480 with 1 Axes>"
            ],
            "image/png": "[encoded data removed]"
          },
          "metadata": {}
        }
      ]
    },
    {
      "cell_type": "code",
      "source": [
        "#The parameters of .boxplot() define the following:\n",
        "\n",
        "#x is your data.\n",
        "#vert sets the plot orientation to horizontal when False. The default orientation is vertical.\n",
        "#showmeans shows the mean of your data when True.\n",
        "#meanline represents the mean as a line when True. The default representation is a point.\n",
        "#labels: the labels of your data.\n",
        "#patch_artist determines how to draw the graph.\n",
        "#medianprops denotes the properties of the line representing the median.\n",
        "#meanprops indicates the properties of the line or dot representing the mean.\n",
        "#The mean is the red dashed line.The median is the purple line."
      ],
      "metadata": {
        "id": "zpA_BSOgDkHi"
      },
      "execution_count": null,
      "outputs": []
    },
    {
      "cell_type": "code",
      "source": [
        "#Histograms:The histogram divides the values from a sorted dataset into intervals, also called bins.\n",
        "#all bins are of equal width,\n",
        "#though this doesn’t have to be the case. The values of the lower and upper bounds of a bin are called the bin edges.\n",
        "#If you divide a dataset with the bin edges 0, 5, 10, and 15, then there are three bins:0-5(values 0=0,5!=0)\n",
        "hist, bin_edges = np.histogram(x, bins=10)\n",
        "hist,bin_edges\n",
        "#hist contains the frequency or the number of items corresponding to each bin.\n",
        "#bin_edges contains the edges or bounds of the bin.\n",
        "fig, ax = plt.subplots()\n",
        "ax.hist(x, bin_edges, cumulative=False)\n",
        "ax.set_xlabel('x')\n",
        "ax.set_ylabel('Frequency')\n",
        "plt.show()"
      ],
      "metadata": {
        "colab": {
          "base_uri": "https://localhost:8080/",
          "height": 453
        },
        "id": "7tLcHrMOEKOU",
        "outputId": "5a3d2ee6-e681-4089-96f0-220824d19c5d"
      },
      "execution_count": null,
      "outputs": [
        {
          "output_type": "display_data",
          "data": {
            "text/plain": [
              "<Figure size 640x480 with 1 Axes>"
            ],
            "image/png": "[encoded data removed]"
          },
          "metadata": {}
        }
      ]
    },
    {
      "cell_type": "code",
      "source": [
        "fig, ax = plt.subplots()\n",
        "ax.hist(x, bin_edges, cumulative=True)\n",
        "ax.set_xlabel('x')\n",
        "ax.set_ylabel('Frequency')\n",
        "plt.show()"
      ],
      "metadata": {
        "colab": {
          "base_uri": "https://localhost:8080/",
          "height": 449
        },
        "id": "zDTQJY5-G6yU",
        "outputId": "70c39d5f-f848-4627-8f49-2dd69227648f"
      },
      "execution_count": null,
      "outputs": [
        {
          "output_type": "display_data",
          "data": {
            "text/plain": [
              "<Figure size 640x480 with 1 Axes>"
            ],
            "image/png": "[encoded data removed]"
          },
          "metadata": {}
        }
      ]
    },
    {
      "cell_type": "code",
      "source": [
        "#The frequency of the first and leftmost bin is the number of items in this bin.\n",
        "#The frequency of the second bin is the sum of the numbers of items in the first and second bins\n",
        "#.The other bins follow this same pattern. Finally,\n",
        "#the frequency of the last and rightmost bin is the total number of items in the dataset (in this case, 1000). You can also directly draw a histogram with pd.Series.hist() using matplotlib in the background."
      ],
      "metadata": {
        "id": "TmwxM_a5HNpD"
      },
      "execution_count": null,
      "outputs": []
    },
    {
      "cell_type": "code",
      "source": [
        "#Pie Charts:Pie charts represent data with a small number of labels and given relative frequencies\n",
        "x, y, z = 128, 256, 1024\n",
        "fig, ax = plt.subplots()\n",
        "ax.pie((x, y, z), labels=('x', 'y', 'z'), autopct='%1.1f%%')\n",
        "plt.show()"
      ],
      "metadata": {
        "colab": {
          "base_uri": "https://localhost:8080/",
          "height": 406
        },
        "id": "PA8EzcvgHlAz",
        "outputId": "e0b2b9a9-5a1a-4be6-f4b1-88ed5686e4ea"
      },
      "execution_count": null,
      "outputs": [
        {
          "output_type": "display_data",
          "data": {
            "text/plain": [
              "<Figure size 640x480 with 1 Axes>"
            ],
            "image/png": "[encoded data removed]"
          },
          "metadata": {}
        }
      ]
    },
    {
      "cell_type": "code",
      "source": [
        "#Bar Charts:Bar charts also illustrate data that correspond to given labels or discrete numeric values\n",
        "#They can show the pairs of data from two datasets. Items of one set are the labels, while the corresponding items of the other are their frequencies.\n",
        "x = np.arange(21)\n",
        "y = np.random.randint(21, size=21)\n",
        "err = np.random.randn(21)\n",
        "fig, ax = plt.subplots()\n",
        "ax.bar(x, y, data=err)\n",
        "ax.set_xlabel('x')\n",
        "ax.set_ylabel('y')\n",
        "plt.show()"
      ],
      "metadata": {
        "colab": {
          "base_uri": "https://localhost:8080/",
          "height": 449
        },
        "id": "rMSHskVXHx9z",
        "outputId": "7af6f983-1573-4199-ff0c-05cbe8c717f7"
      },
      "execution_count": null,
      "outputs": [
        {
          "output_type": "display_data",
          "data": {
            "text/plain": [
              "<Figure size 640x480 with 1 Axes>"
            ],
            "image/png": "[encoded data removed]"
          },
          "metadata": {}
        }
      ]
    },
    {
      "cell_type": "code",
      "source": [
        "#X-Y Plots : The x-y plot or scatter plot represents the pairs of data from two datasets\n",
        "#The horizontal x-axis shows the values from the set x, while the vertical y-axis shows the corresponding values from the set y.\n",
        "# You can optionally include the regression line and the correlation coefficient.\n",
        "#Let’s generate two datasets and perform linear regression with scipy.stats.linregress():\n",
        "x = np.arange(21)\n",
        "y = 5 + 2 * x + 2 * np.random.randn(21)\n",
        "slope, intercept, r, *__ = scipy.stats.linregress(x, y)\n",
        "line = f'Regression line: y={intercept:.2f}+{slope:.2f}x, r={r:.2f}'\n",
        "fig, ax = plt.subplots()\n",
        "ax.plot(x, y, linewidth=0, marker='s', label='Data points')\n",
        "ax.plot(x, intercept + slope * x, label=line)\n",
        "ax.set_xlabel('x')\n",
        "ax.set_ylabel('y')\n",
        "ax.legend(facecolor='white')\n",
        "plt.show()"
      ],
      "metadata": {
        "colab": {
          "base_uri": "https://localhost:8080/",
          "height": 449
        },
        "id": "X0VnzWImIxlz",
        "outputId": "5c3b8005-6db6-47c9-9edc-7b4fe5398efa"
      },
      "execution_count": null,
      "outputs": [
        {
          "output_type": "display_data",
          "data": {
            "text/plain": [
              "<Figure size 640x480 with 1 Axes>"
            ],
            "image/png": "[encoded data removed]"
          },
          "metadata": {}
        }
      ]
    },
    {
      "cell_type": "code",
      "source": [
        "#Heatmaps : Heatmaps are particularly useful for illustrating the covariance and correlation matrices\n",
        "matrix = np.cov(x, y).round(decimals=2)\n",
        "fig, ax = plt.subplots()\n",
        "ax.imshow(matrix)\n",
        "ax.grid(False)\n",
        "ax.xaxis.set(ticks=(0, 1), ticklabels=('x', 'y'))\n",
        "ax.yaxis.set(ticks=(0, 1), ticklabels=('x', 'y'))\n",
        "ax.set_ylim(1.5, -0.5)\n",
        "for i in range(2):\n",
        "    for j in range(2):\n",
        "        ax.text(j, i, matrix[i, j], ha='center', va='center', color='w')\n",
        "plt.show()"
      ],
      "metadata": {
        "colab": {
          "base_uri": "https://localhost:8080/",
          "height": 430
        },
        "id": "Maq25C0hJuwM",
        "outputId": "a1053e71-9cf3-4ee4-cfa7-bf1498e561fe"
      },
      "execution_count": null,
      "outputs": [
        {
          "output_type": "display_data",
          "data": {
            "text/plain": [
              "<Figure size 640x480 with 1 Axes>"
            ],
            "image/png": "[encoded data removed]"
          },
          "metadata": {}
        }
      ]
    },
    {
      "cell_type": "code",
      "source": [
        "matrix = np.cov(x, y).round(decimals=2)\n",
        "fig, ax = plt.subplots()\n",
        "ax.imshow(matrix)\n",
        "ax.grid(False)\n",
        "ax.xaxis.set(ticks=(0, 1), ticklabels=('x', 'y'))\n",
        "ax.yaxis.set(ticks=(0, 1), ticklabels=('x', 'y'))\n",
        "ax.set_ylim(1.5, -0.5)\n",
        "for i in range(2):\n",
        "    for j in range(2):\n",
        "        ax.text(j, i, matrix[i, j], ha='center', va='center', color='w')\n",
        "plt.show()"
      ],
      "metadata": {
        "colab": {
          "base_uri": "https://localhost:8080/",
          "height": 430
        },
        "id": "sA5E3NVxKwhd",
        "outputId": "6bc7d3ea-0d10-40f5-c91a-b46ae592b098"
      },
      "execution_count": null,
      "outputs": [
        {
          "output_type": "display_data",
          "data": {
            "text/plain": [
              "<Figure size 640x480 with 1 Axes>"
            ],
            "image/png": "[encoded data removed]"
          },
          "metadata": {}
        }
      ]
    },
    {
      "cell_type": "code",
      "source": [
        "#Use Python’s statistics for the most important Python statistics functions.\n",
        "#Use NumPy to handle arrays efficiently.\n",
        "#Use SciPy for additional Python statistics routines for NumPy arrays.\n",
        "#Use pandas to work with labeled datasets.\n",
        "#Use Matplotlib to visualize data with plots, charts, and histograms."
      ],
      "metadata": {
        "id": "xQcw7GWnLfB7"
      },
      "execution_count": null,
      "outputs": []
    },
    {
      "cell_type": "code",
      "source": [
        "#Inferential Statistics\n",
        "#Parameter: It is a measure that could be mean, median, variance, and many more for population data.\n",
        "\n",
        "#Statistic: It is a measure that could be mean, median, variance, and many more for sample data.\n",
        "#Relationship between a parameter and a statistic considering the measure “mean”\n",
        "#.Sampling and its various techniques\n"
      ],
      "metadata": {
        "id": "MROpnSc1ascZ"
      },
      "execution_count": null,
      "outputs": []
    },
    {
      "cell_type": "code",
      "source": [
        "#Simple Random Sampling:\n",
        "#Problem: A farmer planted 98 tomato plants last year.\n",
        "#He has numbered each plant with numbers 1,2,…98.\n",
        "#Now he wants to study the growth of the plants.\n",
        "#Help the farmer to select 12 plants randomly as a sample for the study using an appropriate sampling technique\n",
        "#simple random sampling without replacement\n",
        "import random\n",
        "data=list(range(1,99))\n",
        "sample_without_rep=random.sample(data,k=12)\n",
        "sample_without_rep\n",
        "sample_with_rep=random.choices(data,k=12)\n",
        "sample_with_rep,sample_without_rep"
      ],
      "metadata": {
        "colab": {
          "base_uri": "https://localhost:8080/"
        },
        "id": "NFD34BlfdDUB",
        "outputId": "659d0d46-b888-4031-f8fc-6cfc4d65be4e"
      },
      "execution_count": null,
      "outputs": [
        {
          "output_type": "execute_result",
          "data": {
            "text/plain": [
              "([97, 37, 45, 74, 1, 21, 24, 20, 42, 54, 92, 65],\n",
              " [98, 43, 71, 77, 50, 64, 49, 91, 29, 59, 31, 89])"
            ]
          },
          "metadata": {},
          "execution_count": 132
        }
      ]
    },
    {
      "cell_type": "code",
      "source": [
        "#Stratified Sampling: he sample data points are selected based on “strata” or commonality. We use “group by” to partition the common data points.\n",
        "#Problem: A rose nursery contains roses of 5 distinct colors. Select two plants of each color randomly.\n",
        "\n",
        "'''rose_col = ['White', 'Pink', 'White', 'Red', 'Yellow', 'Orange', 'Orange', 'Red', 'Yellow', 'White', 'Pink',\n",
        "'White', 'Red', 'Orange']\n",
        "rose_col.groupby('Color',group_keys=False).apply(lambda x:x.sample(2,random_state=10))'''\n"
      ],
      "metadata": {
        "colab": {
          "base_uri": "https://localhost:8080/",
          "height": 52
        },
        "id": "KK3DzbWrd10f",
        "outputId": "0586cc44-52e8-49d8-9373-15a7432ce9ec"
      },
      "execution_count": null,
      "outputs": [
        {
          "output_type": "execute_result",
          "data": {
            "text/plain": [
              "\"rose_col = ['White', 'Pink', 'White', 'Red', 'Yellow', 'Orange', 'Orange', 'Red', 'Yellow', 'White', 'Pink',\\n'White', 'Red', 'Orange']\\nrose_col.groupby('Color',group_keys=False).apply(lambda x:x.sample(2,random_state=10))\""
            ],
            "application/vnd.google.colaboratory.intrinsic+json": {
              "type": "string"
            }
          },
          "metadata": {},
          "execution_count": 133
        }
      ]
    },
    {
      "cell_type": "code",
      "source": [
        "#Systematic Sampling: The first data point is selected randomly and the next one is selected at random intervals.\n",
        "#Ann has collected 20 beautiful blue marbles pebbles on her last summer vacation. Her mother gave her permission to take only 4 pebbles for her friends.\n",
        "# Each of the marble is coded with numbers as 1,2,…20. As 2 is her favorite number,\n",
        "# she wants to select pebbles starting from the 2nd pebble. Help Ann to systematically select the 4 marble pebbles for her friends.\n",
        "mar=list(range(1,21))\n",
        "mar_a=np.array(mar)\n",
        "mar_r=mar_a.reshape(4,5)\n",
        "mar_r"
      ],
      "metadata": {
        "colab": {
          "base_uri": "https://localhost:8080/"
        },
        "id": "G_GonjQFeKw2",
        "outputId": "e087711a-f420-40ad-a675-125637f010b7"
      },
      "execution_count": null,
      "outputs": [
        {
          "output_type": "execute_result",
          "data": {
            "text/plain": [
              "array([[ 1,  2,  3,  4,  5],\n",
              "       [ 6,  7,  8,  9, 10],\n",
              "       [11, 12, 13, 14, 15],\n",
              "       [16, 17, 18, 19, 20]])"
            ]
          },
          "metadata": {},
          "execution_count": 134
        }
      ]
    },
    {
      "cell_type": "code",
      "source": [
        "b=[]\n",
        "for i in range(4):\n",
        "  a=mar_r[i][1]\n",
        "  b.append(a)\n",
        "b"
      ],
      "metadata": {
        "colab": {
          "base_uri": "https://localhost:8080/"
        },
        "id": "wobqWHrigGeU",
        "outputId": "e501c02e-118a-4c26-c371-0c91598e1fae"
      },
      "execution_count": null,
      "outputs": [
        {
          "output_type": "execute_result",
          "data": {
            "text/plain": [
              "[2, 7, 12, 17]"
            ]
          },
          "metadata": {},
          "execution_count": 135
        }
      ]
    },
    {
      "cell_type": "code",
      "source": [
        "#Central Limit Theorem:the distribution of the individual means of the samples follows a normal distribution.\n",
        "#The means of the samples is called Sampling Variation”. Also, it states that the mean of the means of the sample is closely near to the mean of the population\n",
        "#The standard deviation of the means of the samples is called “Standard Error”.: Standard Error=σ/√n\n",
        "#where, σ= standard deviation of the population(use sample standard deviation “s” if population standard deviation is unknown), n= sample size"
      ],
      "metadata": {
        "id": "B8Na_w7kgVIU"
      },
      "execution_count": null,
      "outputs": []
    },
    {
      "cell_type": "code",
      "source": [
        "#Total data points=100 , Number of Samples =10, Sample Size =10\n",
        "import random\n",
        "a=range(100)#population\n",
        "means=[] #list hold the individual sample means\n",
        "for i in range(10):         #loop for 10 samples\n",
        "  b=random.sample(a,k=10) #randomly serl\n",
        "  means.append(np.mean(b))\n",
        "means\n",
        "\n"
      ],
      "metadata": {
        "id": "e4fKkMeng4Mn",
        "colab": {
          "base_uri": "https://localhost:8080/"
        },
        "outputId": "0184c8f2-9b57-49f1-d1a2-b9210921b400"
      },
      "execution_count": null,
      "outputs": [
        {
          "output_type": "execute_result",
          "data": {
            "text/plain": [
              "[43.2, 55.0, 53.9, 62.0, 54.2, 42.4, 52.4, 37.8, 51.3, 39.4]"
            ]
          },
          "metadata": {},
          "execution_count": 137
        }
      ]
    },
    {
      "cell_type": "code",
      "source": [
        "np.mean(means)"
      ],
      "metadata": {
        "colab": {
          "base_uri": "https://localhost:8080/"
        },
        "id": "60LuiBuxhyIG",
        "outputId": "86cc4861-3025-4935-8584-29184ab367d1"
      },
      "execution_count": null,
      "outputs": [
        {
          "output_type": "execute_result",
          "data": {
            "text/plain": [
              "49.16"
            ]
          },
          "metadata": {},
          "execution_count": 138
        }
      ]
    },
    {
      "cell_type": "code",
      "source": [
        "np.mean(a)"
      ],
      "metadata": {
        "colab": {
          "base_uri": "https://localhost:8080/"
        },
        "id": "QrFzraKYh13S",
        "outputId": "b4a62476-f7c5-45a7-d948-37997748d627"
      },
      "execution_count": null,
      "outputs": [
        {
          "output_type": "execute_result",
          "data": {
            "text/plain": [
              "49.5"
            ]
          },
          "metadata": {},
          "execution_count": 139
        }
      ]
    },
    {
      "cell_type": "code",
      "source": [
        "#approxmately near the population mean and sample mean since we can proved the clt"
      ],
      "metadata": {
        "id": "w9bIDyeah4Ci"
      },
      "execution_count": null,
      "outputs": []
    },
    {
      "cell_type": "code",
      "source": [
        "#3.Estimation :One of the two important parts of inferential statistical analysis is “Estimation” of the population parameter(mean, median, variance, etc)\n",
        "# that the population parameter could be a certain value(point estimate) or it falls within the range “a” and “b”(interval estimate).\n",
        "#Sampling Error= population parameter-sample statistic\n",
        "\n",
        "\n",
        "#The production manager at the automobile company states that all the steel rods are produced with an average length of 26 cm.\n",
        "#Use the data given in the previous question and calculate the sampling error for the mean.\n",
        "#Note: Here , the parameter and statistic measure is “mean”.\n",
        "\n",
        "\n",
        "len_rod= [25.2, 26.3, 28, 21.9, 23.4, 24, 27.2, 23, 29.2, 28.7, 23.1, 23.5, 26.4, 22.8, 24.7]\n",
        "len_rod = np.array([25.2, 26.3, 28, 21.9, 23.4, 24, 27.2, 23, 29.2, 28.7, 23.1, 23.5, 26.4, 22.8, 24.7])\n",
        "mu_pop=26\n",
        "mu_sample=len_rod.mean()\n",
        "print('sample error: ',(mu_pop-mu_sample))\n",
        "#The “point estimate” says that the mean of the population is a certain value\n",
        "      #This is the drawback of “point estimation”."
      ],
      "metadata": {
        "colab": {
          "base_uri": "https://localhost:8080/"
        },
        "id": "yICTTdS5iXw6",
        "outputId": "eef9f3a5-e6e9-4c06-8032-e750d1243e5d"
      },
      "execution_count": null,
      "outputs": [
        {
          "output_type": "stream",
          "name": "stdout",
          "text": [
            "sample error:  0.8399999999999999\n"
          ]
        }
      ]
    },
    {
      "cell_type": "code",
      "source": [
        "#To overcome this Confidence Interval” estimation. I am 95% confident that the population mean falls within the range.\n",
        "#he range of the values from the point estimate on either side till the error magnitude is called “ Margin of Error”.\n",
        "#A pediatrician wants to check the amount of sugar in the 100g pack of baby food produced by KidsGrow company.\n",
        "# The medical journal states that a standard deviation of sugar in 100g pack is 8g.\n",
        "#The pediatrician collects 37 packets of baby food and found that the average sugar is 24g. Find the 90% confidence interval for the population mean.\n",
        "import scipy.stats\n",
        "n=100#sample size\n",
        "sigma=8 #std deviation\n",
        "xbar=24 #the mean of sample\n",
        "a=0.10#level of significance=1-confidence level\n",
        "\n",
        "z_alpha_by_2=scipy.stats.norm.isf(0.1/2)\n",
        "z_alpha_by_2\n",
        "lcl=xbar-(z_alpha_by_2*sigma/np.sqrt(n))#lower limit of the interval\n",
        "ucl=xbar+(z_alpha_by_2*sigma/np.sqrt(n))#upper limit of the interval\n",
        "print(lcl,ucl)#the interval estimation of the population mean"
      ],
      "metadata": {
        "id": "ZZYsMhT2j36z",
        "colab": {
          "base_uri": "https://localhost:8080/"
        },
        "outputId": "260685b5-8b71-4e2b-d232-9dfe33b588be"
      },
      "execution_count": null,
      "outputs": [
        {
          "output_type": "stream",
          "name": "stdout",
          "text": [
            "22.684117098438822 25.315882901561178\n"
          ]
        }
      ]
    },
    {
      "cell_type": "code",
      "source": [
        "#Alternatively, we can use an in-built function to calculate the interval estimate as\n",
        "scipy.stats.norm.interval(0.90,xbar,sigma/np.sqrt(n))"
      ],
      "metadata": {
        "colab": {
          "base_uri": "https://localhost:8080/"
        },
        "id": "C_MXwHeHglLL",
        "outputId": "e652681a-223f-412a-9c18-eabed1377f90"
      },
      "execution_count": null,
      "outputs": [
        {
          "output_type": "execute_result",
          "data": {
            "text/plain": [
              "(22.684117098438822, 25.315882901561178)"
            ]
          },
          "metadata": {},
          "execution_count": 143
        }
      ]
    },
    {
      "cell_type": "code",
      "source": [
        "#This is all about estimating the interval within which the population “mean” would fall using a “Z-distribution”.\n",
        " #This is used when we are aware of the standard deviation of the population(i.e ‘σ’) and the sample size n >30.\n",
        "#In case if the “σ” is unknown and the sample size n < 30, then we use a distribution called “T-distribution”.\n",
        "#Note: T-distribution is always dependent on what is called a “degree of freedom” of the sample size.\n",
        " #If “n” is the sample size, then the degree of freedom is n-1.\n",
        "\n",
        "\n",
        "# The health magazine in Los Angeles states that a person should drink 1.8 L of water every day.\n",
        "# To study this statement,the physician collects the data of 15 people and found that the average water intake for\n",
        "#these people is 1.6 L with a standard deviation of 0.5 L.\n",
        " #Calculate the 90% confidence interval for the population's average water intake.\n",
        "\n",
        "\n",
        "\n",
        "n=15#sample size\n",
        "mu_sample=1.6 #mean of the sample\n",
        "std_sample=0.5\n",
        "a=0.10  #level of significance=1-confidence level\\\n",
        "#since the standard deviation of the population is unknown and n<30, we use t-distribution\n",
        "\n",
        "t_alpha_by_2=scipy.stats.t.isf(a/2,n-1)#ta/2 is the equalivalent of Za/2 from z-distribution\n",
        "lcl=mu_sample-(t_alpha_by_2 * std_sample/np.sqrt(n))# lower limit of the interval\n",
        "ucl=mu_sample+(t_alpha_by_2 * std_sample/np.sqrt(n))# upper limit of the interval\n",
        "lcl,ucl#invtervel estimation of the population mean"
      ],
      "metadata": {
        "colab": {
          "base_uri": "https://localhost:8080/"
        },
        "id": "XVCtzbPbiUBL",
        "outputId": "ddb3a7ca-00c4-4724-fa50-01a7bcb7d45e"
      },
      "execution_count": null,
      "outputs": [
        {
          "output_type": "execute_result",
          "data": {
            "text/plain": [
              "(1.3726158392212553, 1.8273841607787449)"
            ]
          },
          "metadata": {},
          "execution_count": 144
        }
      ]
    },
    {
      "cell_type": "code",
      "source": [
        "#All this while we saw the interval estimation for a numerical variable, now let us see the interval\n",
        "# estimation for the categorical variable(i.e for proportion).\n",
        "#The assumption we make is that the distribution always follows a normal curve and we use “Z-distribution”.\n",
        "\n",
        "#The NY university has opened the post of Astrophysics professor. The total number of applications was 36\n",
        "#. To check the authenticity of the applicants a sample of 10 applications was collected,\n",
        "#out of which 3 applicants were found to be a fraud. Construct the 95% confidence interval for the population proportion.\n",
        "n=10 #sample size\n",
        "p=3/10\n",
        "scipy.stats.norm.interval(0.95,p,np.sqrt(p*(1-p)/n))\n"
      ],
      "metadata": {
        "colab": {
          "base_uri": "https://localhost:8080/"
        },
        "id": "py75JwUIqxkq",
        "outputId": "215c8135-3cee-4d28-9180-2b33c124f10f"
      },
      "execution_count": null,
      "outputs": [
        {
          "output_type": "execute_result",
          "data": {
            "text/plain": [
              "(0.015974234910674623, 0.5840257650893254)"
            ]
          },
          "metadata": {},
          "execution_count": 149
        }
      ]
    },
    {
      "cell_type": "code",
      "source": [
        "#Hypothesis and HypothesisTesting\n",
        "#Hypothesis in statistics is any testable claim or assumption about the parameter of the population.\n",
        "#It should be capable of being tested, either by experiment or observation\n",
        "\n",
        "#Types of Hypothesis\n",
        "\n",
        "#Null Hypothesis(H0):In the type, we say that there is no variation in the outcome. That means, there is no real effect.\n",
        "#Examples :\n",
        "#Special training on students does not affect.\n",
        "#Different teaching method does not affect students’ performance\n",
        "#The drug used for headaches does not affect the application.\n",
        "\n",
        "#Alternate Hypothesis(Ha): It is the contrasting statement to H0 where it says there is a real effect in the outcome.\n",
        "#Examples:\n",
        "#Special training on students has a significant effect.\n",
        "#Different teaching method has a significant effect on students’ performance.\n",
        "#The drug used for headaches has a significant effect after application.\n",
        "\n",
        "#As we already know, a hypothesis is a testable claim and only either H0 or Ha can be proved.\n",
        "#The process of proving either of them is called the “Hypothesis Testing Process”.\n",
        "#Note that if we accept H0, automatically Ha is rejected and vice-versa."
      ],
      "metadata": {
        "id": "dlMCJp3OOcX8"
      },
      "execution_count": null,
      "outputs": []
    },
    {
      "cell_type": "code",
      "source": [
        "#We assign a confidence level to hypothesis testing and try to limit the amount of error being committed.\n",
        "# The universally accepted confidence level is 95%. By doing so we admit that while rejecting the null hypothesis,\n",
        "# there is a 5% possibility of wrongly rejecting the null hypothesis.\n",
        "\n",
        "#Note: While framing the Hypothesis statements, the equality sign =, ≤, ≥ should always appear on the Null Hypothesis side : EX: PGNO 85D"
      ],
      "metadata": {
        "id": "syIO6AFIQyVO"
      },
      "execution_count": null,
      "outputs": []
    },
    {
      "cell_type": "code",
      "source": [
        "#Hypothesis Testing:\n",
        "\n",
        "#After framing the hypothesis statements H0 and Ha for a given claim, it is now time to prove either of them wrong.\n",
        "#This is done by 3 well-defined methods namely,\n",
        "\n",
        "#a) Critical value approach\n",
        "\n",
        "#b) p-value approach\n",
        "\n",
        "#c) Confidence interval approach\n",
        "\n",
        "#Before going further into each of them,\n",
        "# we need to understand something called a “left/right-tailed test” or a “two-tailed test”. The trick here is to observe the H0 and Ha statements.\n",
        "#If H0 has an “=” sign in it, it means to say that is a “two-tailed” test.\n",
        "# Two-tailed tests are used, when it is required to test if the observed mean is equal to the hypothesized mean.\n",
        "#One-tailed tests are used, when it is required to test if the observed mean significantly exceeds the hypothesized mean\n",
        "#or when it is significantly lesser than the hypothesized mean.\n",
        "#If Ha has a “<” or a “>” sign in it then it is a “left-tailed” and a “right-tailed test” respectively.EX: PGNO 85D"
      ],
      "metadata": {
        "id": "WHcyQQsBSyVg"
      },
      "execution_count": null,
      "outputs": []
    },
    {
      "cell_type": "code",
      "source": [
        "#a) Critical value approach :\n",
        "#For a left tailed test, the “test_stat” and the “critical” values will lie on the left of the mean of the normal curve.\n",
        "# Hence, their values will be negative. Then,\n",
        "\n",
        "#critical= scipy.stats.norm.ppf(α) using Z-distribution for “σ “(known)\n",
        "\n",
        "#critical= scipy.stats.t.ppf(α,n-1) using T-distribution for “σ “(unknown)\n",
        "\n",
        "#For a right-tailed test, the “test_stat” and the “critical” values will lie on the right of the mean of the normal curve.\n",
        "# Hence, their values will be positive. Then,\n",
        "\n",
        "#critical= scipy.stats.norm.isf(α) using Z-distribution for “σ “(known)\n",
        "\n",
        "#critical= scipy.stats.t.isf(α,n-1) using T-distribution for “σ “(unknown)"
      ],
      "metadata": {
        "id": "nGEzG7V1Ta6i"
      },
      "execution_count": null,
      "outputs": []
    },
    {
      "cell_type": "code",
      "source": [
        "#For a two-tailed test, the “test_stat” and the “critical” values can lie on either side of the normal curve.\n",
        "#If the test_stat is “negative”, use the formula to calculate the critical value from the left tailed test.\n",
        "#The same can be done if the test_stat is “positive”(i.e use the formula to calculate the critical value from the right-tailed test).\n",
        "\n",
        "#b) p-value approach:\n",
        "#For a left tailed test,\n",
        " #the “test_stat” and the “critical” values will lie on the left of the mean of the normal curve.\n",
        " #Hence, their values will be negative. Then,\n",
        "#p_value= scipy.stats.norm.cdf(test_stat) using Z-distribution for “σ “(known)\n",
        "#p_value= scipy.stats.t.cdf(test_stat,n-1) using T-distribution for “σ “(unknown)\n",
        "#For a right-tailed test,\n",
        "# the “test_stat” and the “critical” values will lie on the right of the mean of the normal curve. Hence, their values will be positive. Then,\n",
        "#p_value= scipy.stats.norm.sf(test_stat) using Z-distribution for “σ “(known)\n",
        "#p_value= scipy.stats.t.sf(test_stat,n-1) using T-distribution for “σ “(unknown)\n",
        "#For a two-tailed test, the “test_stat” and the “critical” values can lie on either side of the normal curve. If the test_stat is “negative”,\n",
        "# use the formula to calculate the p-value from the left tailed test.\n",
        "# The same can be done if the test_stat is “positive”(i.e use the formula to calculate the p-value from the right-tailed test).\n",
        "# Note that you will have to multiply the p-value by 2 so that it is applicable for both the tails."
      ],
      "metadata": {
        "id": "BeMQSdi6WOfy"
      },
      "execution_count": null,
      "outputs": []
    },
    {
      "cell_type": "code",
      "source": [
        "#c) Confidence Interval approach:\n",
        "#The production manager at tea emporium claims that the weight of a green tea bag is less than 3.5 g.\n",
        "# To test the manager’s claim consider a sample of 50 tea bags. The sample average weight is found to be 3.28 g with a standard deviation of 0.6 g.\n",
        " #Use the p-value technique to test the claim at a 10% level of significance.\n",
        "\n",
        "#We will work out all the 3 methods of Hypothesis testing\n",
        "\n",
        "#step 1 : Hypothesis statements\n",
        "#H0 : weight of green tea bag >= 3.5g, Ha: weight of green tea bag < 3.5g\n",
        "#It is a left tailed test (i.e t_test and critical value will be 'negative')\n",
        "\n",
        "#step 2 : alpha given =0.10\n",
        "\n",
        "#Given\n",
        "mu_pop=3.5 #mu of the population\n",
        "n=50 #sample size\n",
        "xbar=3.28 #givben mean of the sample\n",
        "s=0.65\n",
        "a=0.10#given the level of signicance\n",
        "SE=s/np.sqrt(n)#calculated standard error\n",
        "\n",
        "#step 3 : calculate the t_test\n",
        "t_test = (xbar-mu_pop)/SE\n",
        "\n",
        "#Step 4 : calculate t_critical and p-value and confidence interval\n",
        "\n",
        "t_critical=scipy.stats.t.ppf(a,n-1)\n",
        "p_value = scipy.stats.t.cdf(t_test,n-1)\n",
        "t_alphby_2=scipy.stats.t.isf(a/2,n-1)\n",
        "LCL=xbar-t_alphby_2*SE\n",
        "UCL=xbar+t_alphby_2*SE\n",
        "print('t_test : ',t_test)\n",
        "print('t_critical: ', t_critical)\n",
        "print('p_value:', p_value)\n",
        "print('alpha: ',a)\n",
        "print(LCL,UCL,mu_pop)\n"
      ],
      "metadata": {
        "colab": {
          "base_uri": "https://localhost:8080/"
        },
        "id": "UI2C6fmzeFXM",
        "outputId": "8c5827b8-ad04-4251-dba9-c3ce1171372a"
      },
      "execution_count": null,
      "outputs": [
        {
          "output_type": "stream",
          "name": "stdout",
          "text": [
            "t_test :  -2.3932844901698553\n",
            "t_critical:  -1.2990687845090694\n",
            "p_value: 0.010286825762268144\n",
            "alpha:  0.1\n",
            "3.125884934391999 3.4341150656080006 3.5\n"
          ]
        }
      ]
    },
    {
      "cell_type": "code",
      "source": [
        "#step 5 : conclusions\n",
        "#By critical value approach t_critical > t_test : hence reject H0\n",
        "#By p-value approach : p-value <0.1 hence reject H0\n",
        "#By confidence interval approach : mu_ pop does not fall in the interval range. Hence, reject H0\n",
        "# SO FINALLY WE CAN CONCLUDE THAT"
      ],
      "metadata": {
        "id": "E_GgpM3koyBm"
      },
      "execution_count": null,
      "outputs": []
    },
    {
      "cell_type": "code",
      "source": [
        "import numpy as np\n",
        "import matplotlib.pyplot as plt\n",
        "%matplotlib inline\n",
        "import seaborn as sns\n",
        "import statistics"
      ],
      "metadata": {
        "id": "TpwT_PNesxEm"
      },
      "execution_count": null,
      "outputs": []
    },
    {
      "cell_type": "code",
      "source": [
        "#mean,meadian,mode\n",
        "df=sns.load_dataset('tips')\n",
        "df.head()"
      ],
      "metadata": {
        "colab": {
          "base_uri": "https://localhost:8080/",
          "height": 206
        },
        "id": "9aNVuXJzs-ZK",
        "outputId": "a360fa4b-5bb0-423a-c428-85f418ea809f"
      },
      "execution_count": null,
      "outputs": [
        {
          "output_type": "execute_result",
          "data": {
            "text/plain": [
              "   total_bill   tip     sex smoker  day    time  size\n",
              "0       16.99  1.01  Female     No  Sun  Dinner     2\n",
              "1       10.34  1.66    Male     No  Sun  Dinner     3\n",
              "2       21.01  3.50    Male     No  Sun  Dinner     3\n",
              "3       23.68  3.31    Male     No  Sun  Dinner     2\n",
              "4       24.59  3.61  Female     No  Sun  Dinner     4"
            ],
            "text/html": [
              "\n",
              "  <div id=\"df-161dd7f0-a6df-41f3-a847-e33d56c5f9b3\" class=\"colab-df-container\">\n",
              "    <div>\n",
              "<style scoped>\n",
              "    .dataframe tbody tr th:only-of-type {\n",
              "        vertical-align: middle;\n",
              "    }\n",
              "\n",
              "    .dataframe tbody tr th {\n",
              "        vertical-align: top;\n",
              "    }\n",
              "\n",
              "    .dataframe thead th {\n",
              "        text-align: right;\n",
              "    }\n",
              "</style>\n",
              "<table border=\"1\" class=\"dataframe\">\n",
              "  <thead>\n",
              "    <tr style=\"text-align: right;\">\n",
              "      <th></th>\n",
              "      <th>total_bill</th>\n",
              "      <th>tip</th>\n",
              "      <th>sex</th>\n",
              "      <th>smoker</th>\n",
              "      <th>day</th>\n",
              "      <th>time</th>\n",
              "      <th>size</th>\n",
              "    </tr>\n",
              "  </thead>\n",
              "  <tbody>\n",
              "    <tr>\n",
              "      <th>0</th>\n",
              "      <td>16.99</td>\n",
              "      <td>1.01</td>\n",
              "      <td>Female</td>\n",
              "      <td>No</td>\n",
              "      <td>Sun</td>\n",
              "      <td>Dinner</td>\n",
              "      <td>2</td>\n",
              "    </tr>\n",
              "    <tr>\n",
              "      <th>1</th>\n",
              "      <td>10.34</td>\n",
              "      <td>1.66</td>\n",
              "      <td>Male</td>\n",
              "      <td>No</td>\n",
              "      <td>Sun</td>\n",
              "      <td>Dinner</td>\n",
              "      <td>3</td>\n",
              "    </tr>\n",
              "    <tr>\n",
              "      <th>2</th>\n",
              "      <td>21.01</td>\n",
              "      <td>3.50</td>\n",
              "      <td>Male</td>\n",
              "      <td>No</td>\n",
              "      <td>Sun</td>\n",
              "      <td>Dinner</td>\n",
              "      <td>3</td>\n",
              "    </tr>\n",
              "    <tr>\n",
              "      <th>3</th>\n",
              "      <td>23.68</td>\n",
              "      <td>3.31</td>\n",
              "      <td>Male</td>\n",
              "      <td>No</td>\n",
              "      <td>Sun</td>\n",
              "      <td>Dinner</td>\n",
              "      <td>2</td>\n",
              "    </tr>\n",
              "    <tr>\n",
              "      <th>4</th>\n",
              "      <td>24.59</td>\n",
              "      <td>3.61</td>\n",
              "      <td>Female</td>\n",
              "      <td>No</td>\n",
              "      <td>Sun</td>\n",
              "      <td>Dinner</td>\n",
              "      <td>4</td>\n",
              "    </tr>\n",
              "  </tbody>\n",
              "</table>\n",
              "</div>\n",
              "    <div class=\"colab-df-buttons\">\n",
              "\n",
              "  <div class=\"colab-df-container\">\n",
              "    <button class=\"colab-df-convert\" onclick=\"convertToInteractive('df-161dd7f0-a6df-41f3-a847-e33d56c5f9b3')\"\n",
              "            title=\"Convert this dataframe to an interactive table.\"\n",
              "            style=\"display:none;\">\n",
              "\n",
              "  <svg xmlns=\"http://www.w3.org/2000/svg\" height=\"24px\" viewBox=\"0 -960 960 960\">\n",
              "    <path d=\"M120-120v-720h720v720H120Zm60-500h600v-160H180v160Zm220 220h160v-160H400v160Zm0 220h160v-160H400v160ZM180-400h160v-160H180v160Zm440 0h160v-160H620v160ZM180-180h160v-160H180v160Zm440 0h160v-160H620v160Z\"/>\n",
              "  </svg>\n",
              "    </button>\n",
              "\n",
              "  <style>\n",
              "    .colab-df-container {\n",
              "      display:flex;\n",
              "      gap: 12px;\n",
              "    }\n",
              "\n",
              "    .colab-df-convert {\n",
              "      background-color: #E8F0FE;\n",
              "      border: none;\n",
              "      border-radius: 50%;\n",
              "      cursor: pointer;\n",
              "      display: none;\n",
              "      fill: #1967D2;\n",
              "      height: 32px;\n",
              "      padding: 0 0 0 0;\n",
              "      width: 32px;\n",
              "    }\n",
              "\n",
              "    .colab-df-convert:hover {\n",
              "      background-color: #E2EBFA;\n",
              "      box-shadow: 0px 1px 2px rgba(60, 64, 67, 0.3), 0px 1px 3px 1px rgba(60, 64, 67, 0.15);\n",
              "      fill: #174EA6;\n",
              "    }\n",
              "\n",
              "    .colab-df-buttons div {\n",
              "      margin-bottom: 4px;\n",
              "    }\n",
              "\n",
              "    [theme=dark] .colab-df-convert {\n",
              "      background-color: #3B4455;\n",
              "      fill: #D2E3FC;\n",
              "    }\n",
              "\n",
              "    [theme=dark] .colab-df-convert:hover {\n",
              "      background-color: #434B5C;\n",
              "      box-shadow: 0px 1px 3px 1px rgba(0, 0, 0, 0.15);\n",
              "      filter: drop-shadow(0px 1px 2px rgba(0, 0, 0, 0.3));\n",
              "      fill: #FFFFFF;\n",
              "    }\n",
              "  </style>\n",
              "\n",
              "    <script>\n",
              "      const buttonEl =\n",
              "        document.querySelector('#df-161dd7f0-a6df-41f3-a847-e33d56c5f9b3 button.colab-df-convert');\n",
              "      buttonEl.style.display =\n",
              "        google.colab.kernel.accessAllowed ? 'block' : 'none';\n",
              "\n",
              "      async function convertToInteractive(key) {\n",
              "        const element = document.querySelector('#df-161dd7f0-a6df-41f3-a847-e33d56c5f9b3');\n",
              "        const dataTable =\n",
              "          await google.colab.kernel.invokeFunction('convertToInteractive',\n",
              "                                                    [key], {});\n",
              "        if (!dataTable) return;\n",
              "\n",
              "        const docLinkHtml = 'Like what you see? Visit the ' +\n",
              "          '<a target=\"_blank\" href=https://colab.research.google.com/notebooks/data_table.ipynb>data table notebook</a>'\n",
              "          + ' to learn more about interactive tables.';\n",
              "        element.innerHTML = '';\n",
              "        dataTable['output_type'] = 'display_data';\n",
              "        await google.colab.output.renderOutput(dataTable, element);\n",
              "        const docLink = document.createElement('div');\n",
              "        docLink.innerHTML = docLinkHtml;\n",
              "        element.appendChild(docLink);\n",
              "      }\n",
              "    </script>\n",
              "  </div>\n",
              "\n",
              "\n",
              "<div id=\"df-92f75fb8-b021-4de2-99ad-ac3fd2f1e9e4\">\n",
              "  <button class=\"colab-df-quickchart\" onclick=\"quickchart('df-92f75fb8-b021-4de2-99ad-ac3fd2f1e9e4')\"\n",
              "            title=\"Suggest charts\"\n",
              "            style=\"display:none;\">\n",
              "\n",
              "<svg xmlns=\"http://www.w3.org/2000/svg\" height=\"24px\"viewBox=\"0 0 24 24\"\n",
              "     width=\"24px\">\n",
              "    <g>\n",
              "        <path d=\"M19 3H5c-1.1 0-2 .9-2 2v14c0 1.1.9 2 2 2h14c1.1 0 2-.9 2-2V5c0-1.1-.9-2-2-2zM9 17H7v-7h2v7zm4 0h-2V7h2v10zm4 0h-2v-4h2v4z\"/>\n",
              "    </g>\n",
              "</svg>\n",
              "  </button>\n",
              "\n",
              "<style>\n",
              "  .colab-df-quickchart {\n",
              "      --bg-color: #E8F0FE;\n",
              "      --fill-color: #1967D2;\n",
              "      --hover-bg-color: #E2EBFA;\n",
              "      --hover-fill-color: #174EA6;\n",
              "      --disabled-fill-color: #AAA;\n",
              "      --disabled-bg-color: #DDD;\n",
              "  }\n",
              "\n",
              "  [theme=dark] .colab-df-quickchart {\n",
              "      --bg-color: #3B4455;\n",
              "      --fill-color: #D2E3FC;\n",
              "      --hover-bg-color: #434B5C;\n",
              "      --hover-fill-color: #FFFFFF;\n",
              "      --disabled-bg-color: #3B4455;\n",
              "      --disabled-fill-color: #666;\n",
              "  }\n",
              "\n",
              "  .colab-df-quickchart {\n",
              "    background-color: var(--bg-color);\n",
              "    border: none;\n",
              "    border-radius: 50%;\n",
              "    cursor: pointer;\n",
              "    display: none;\n",
              "    fill: var(--fill-color);\n",
              "    height: 32px;\n",
              "    padding: 0;\n",
              "    width: 32px;\n",
              "  }\n",
              "\n",
              "  .colab-df-quickchart:hover {\n",
              "    background-color: var(--hover-bg-color);\n",
              "    box-shadow: 0 1px 2px rgba(60, 64, 67, 0.3), 0 1px 3px 1px rgba(60, 64, 67, 0.15);\n",
              "    fill: var(--button-hover-fill-color);\n",
              "  }\n",
              "\n",
              "  .colab-df-quickchart-complete:disabled,\n",
              "  .colab-df-quickchart-complete:disabled:hover {\n",
              "    background-color: var(--disabled-bg-color);\n",
              "    fill: var(--disabled-fill-color);\n",
              "    box-shadow: none;\n",
              "  }\n",
              "\n",
              "  .colab-df-spinner {\n",
              "    border: 2px solid var(--fill-color);\n",
              "    border-color: transparent;\n",
              "    border-bottom-color: var(--fill-color);\n",
              "    animation:\n",
              "      spin 1s steps(1) infinite;\n",
              "  }\n",
              "\n",
              "  @keyframes spin {\n",
              "    0% {\n",
              "      border-color: transparent;\n",
              "      border-bottom-color: var(--fill-color);\n",
              "      border-left-color: var(--fill-color);\n",
              "    }\n",
              "    20% {\n",
              "      border-color: transparent;\n",
              "      border-left-color: var(--fill-color);\n",
              "      border-top-color: var(--fill-color);\n",
              "    }\n",
              "    30% {\n",
              "      border-color: transparent;\n",
              "      border-left-color: var(--fill-color);\n",
              "      border-top-color: var(--fill-color);\n",
              "      border-right-color: var(--fill-color);\n",
              "    }\n",
              "    40% {\n",
              "      border-color: transparent;\n",
              "      border-right-color: var(--fill-color);\n",
              "      border-top-color: var(--fill-color);\n",
              "    }\n",
              "    60% {\n",
              "      border-color: transparent;\n",
              "      border-right-color: var(--fill-color);\n",
              "    }\n",
              "    80% {\n",
              "      border-color: transparent;\n",
              "      border-right-color: var(--fill-color);\n",
              "      border-bottom-color: var(--fill-color);\n",
              "    }\n",
              "    90% {\n",
              "      border-color: transparent;\n",
              "      border-bottom-color: var(--fill-color);\n",
              "    }\n",
              "  }\n",
              "</style>\n",
              "\n",
              "  <script>\n",
              "    async function quickchart(key) {\n",
              "      const quickchartButtonEl =\n",
              "        document.querySelector('#' + key + ' button');\n",
              "      quickchartButtonEl.disabled = true;  // To prevent multiple clicks.\n",
              "      quickchartButtonEl.classList.add('colab-df-spinner');\n",
              "      try {\n",
              "        const charts = await google.colab.kernel.invokeFunction(\n",
              "            'suggestCharts', [key], {});\n",
              "      } catch (error) {\n",
              "        console.error('Error during call to suggestCharts:', error);\n",
              "      }\n",
              "      quickchartButtonEl.classList.remove('colab-df-spinner');\n",
              "      quickchartButtonEl.classList.add('colab-df-quickchart-complete');\n",
              "    }\n",
              "    (() => {\n",
              "      let quickchartButtonEl =\n",
              "        document.querySelector('#df-92f75fb8-b021-4de2-99ad-ac3fd2f1e9e4 button');\n",
              "      quickchartButtonEl.style.display =\n",
              "        google.colab.kernel.accessAllowed ? 'block' : 'none';\n",
              "    })();\n",
              "  </script>\n",
              "</div>\n",
              "    </div>\n",
              "  </div>\n"
            ]
          },
          "metadata": {},
          "execution_count": 8
        }
      ]
    },
    {
      "cell_type": "code",
      "source": [
        "print(np.mean(df['total_bill']))\n",
        "print(np.median(df['total_bill']))\n",
        "print(statistics.mode(df['total_bill']))\n"
      ],
      "metadata": {
        "colab": {
          "base_uri": "https://localhost:8080/"
        },
        "id": "wmgyekx2tA6K",
        "outputId": "998d4c2a-fa83-4563-f84a-f7e6c89b1ae3"
      },
      "execution_count": null,
      "outputs": [
        {
          "output_type": "stream",
          "name": "stdout",
          "text": [
            "19.78594262295082\n",
            "17.795\n",
            "13.42\n"
          ]
        }
      ]
    },
    {
      "cell_type": "code",
      "source": [
        "sns.boxplot(df['total_bill'])"
      ],
      "metadata": {
        "colab": {
          "base_uri": "https://localhost:8080/",
          "height": 448
        },
        "id": "V19vMq2Nu4J5",
        "outputId": "79db654a-f6bc-4b1e-d7ef-30bed1f1d182"
      },
      "execution_count": null,
      "outputs": [
        {
          "output_type": "execute_result",
          "data": {
            "text/plain": [
              "<Axes: >"
            ]
          },
          "metadata": {},
          "execution_count": 12
        },
        {
          "output_type": "display_data",
          "data": {
            "text/plain": [
              "<Figure size 640x480 with 1 Axes>"
            ],
            "image/png": "[encoded data removed]"
          },
          "metadata": {}
        }
      ]
    },
    {
      "cell_type": "code",
      "source": [
        "sns.histplot(df['total_bill'],kde=True)"
      ],
      "metadata": {
        "colab": {
          "base_uri": "https://localhost:8080/",
          "height": 470
        },
        "id": "SngSMGz8vHET",
        "outputId": "7dc3e0dc-bf4c-419d-e928-5450efce0a8f"
      },
      "execution_count": null,
      "outputs": [
        {
          "output_type": "execute_result",
          "data": {
            "text/plain": [
              "<Axes: xlabel='total_bill', ylabel='Count'>"
            ]
          },
          "metadata": {},
          "execution_count": 13
        },
        {
          "output_type": "display_data",
          "data": {
            "text/plain": [
              "<Figure size 640x480 with 1 Axes>"
            ],
            "image/png": "[encoded data removed]"
          },
          "metadata": {}
        }
      ]
    },
    {
      "cell_type": "code",
      "source": [
        "df1=sns.load_dataset('iris')\n",
        "df1.head()"
      ],
      "metadata": {
        "colab": {
          "base_uri": "https://localhost:8080/",
          "height": 206
        },
        "id": "eW1oZ-0qvZzL",
        "outputId": "cd00bf2f-bb1d-49d1-a742-a042cf5c6c6b"
      },
      "execution_count": null,
      "outputs": [
        {
          "output_type": "execute_result",
          "data": {
            "text/plain": [
              "   sepal_length  sepal_width  petal_length  petal_width species\n",
              "0           5.1          3.5           1.4          0.2  setosa\n",
              "1           4.9          3.0           1.4          0.2  setosa\n",
              "2           4.7          3.2           1.3          0.2  setosa\n",
              "3           4.6          3.1           1.5          0.2  setosa\n",
              "4           5.0          3.6           1.4          0.2  setosa"
            ],
            "text/html": [
              "\n",
              "  <div id=\"df-2d53e8bf-9d6d-49b6-82c7-0920f274b953\" class=\"colab-df-container\">\n",
              "    <div>\n",
              "<style scoped>\n",
              "    .dataframe tbody tr th:only-of-type {\n",
              "        vertical-align: middle;\n",
              "    }\n",
              "\n",
              "    .dataframe tbody tr th {\n",
              "        vertical-align: top;\n",
              "    }\n",
              "\n",
              "    .dataframe thead th {\n",
              "        text-align: right;\n",
              "    }\n",
              "</style>\n",
              "<table border=\"1\" class=\"dataframe\">\n",
              "  <thead>\n",
              "    <tr style=\"text-align: right;\">\n",
              "      <th></th>\n",
              "      <th>sepal_length</th>\n",
              "      <th>sepal_width</th>\n",
              "      <th>petal_length</th>\n",
              "      <th>petal_width</th>\n",
              "      <th>species</th>\n",
              "    </tr>\n",
              "  </thead>\n",
              "  <tbody>\n",
              "    <tr>\n",
              "      <th>0</th>\n",
              "      <td>5.1</td>\n",
              "      <td>3.5</td>\n",
              "      <td>1.4</td>\n",
              "      <td>0.2</td>\n",
              "      <td>setosa</td>\n",
              "    </tr>\n",
              "    <tr>\n",
              "      <th>1</th>\n",
              "      <td>4.9</td>\n",
              "      <td>3.0</td>\n",
              "      <td>1.4</td>\n",
              "      <td>0.2</td>\n",
              "      <td>setosa</td>\n",
              "    </tr>\n",
              "    <tr>\n",
              "      <th>2</th>\n",
              "      <td>4.7</td>\n",
              "      <td>3.2</td>\n",
              "      <td>1.3</td>\n",
              "      <td>0.2</td>\n",
              "      <td>setosa</td>\n",
              "    </tr>\n",
              "    <tr>\n",
              "      <th>3</th>\n",
              "      <td>4.6</td>\n",
              "      <td>3.1</td>\n",
              "      <td>1.5</td>\n",
              "      <td>0.2</td>\n",
              "      <td>setosa</td>\n",
              "    </tr>\n",
              "    <tr>\n",
              "      <th>4</th>\n",
              "      <td>5.0</td>\n",
              "      <td>3.6</td>\n",
              "      <td>1.4</td>\n",
              "      <td>0.2</td>\n",
              "      <td>setosa</td>\n",
              "    </tr>\n",
              "  </tbody>\n",
              "</table>\n",
              "</div>\n",
              "    <div class=\"colab-df-buttons\">\n",
              "\n",
              "  <div class=\"colab-df-container\">\n",
              "    <button class=\"colab-df-convert\" onclick=\"convertToInteractive('df-2d53e8bf-9d6d-49b6-82c7-0920f274b953')\"\n",
              "            title=\"Convert this dataframe to an interactive table.\"\n",
              "            style=\"display:none;\">\n",
              "\n",
              "  <svg xmlns=\"http://www.w3.org/2000/svg\" height=\"24px\" viewBox=\"0 -960 960 960\">\n",
              "    <path d=\"M120-120v-720h720v720H120Zm60-500h600v-160H180v160Zm220 220h160v-160H400v160Zm0 220h160v-160H400v160ZM180-400h160v-160H180v160Zm440 0h160v-160H620v160ZM180-180h160v-160H180v160Zm440 0h160v-160H620v160Z\"/>\n",
              "  </svg>\n",
              "    </button>\n",
              "\n",
              "  <style>\n",
              "    .colab-df-container {\n",
              "      display:flex;\n",
              "      gap: 12px;\n",
              "    }\n",
              "\n",
              "    .colab-df-convert {\n",
              "      background-color: #E8F0FE;\n",
              "      border: none;\n",
              "      border-radius: 50%;\n",
              "      cursor: pointer;\n",
              "      display: none;\n",
              "      fill: #1967D2;\n",
              "      height: 32px;\n",
              "      padding: 0 0 0 0;\n",
              "      width: 32px;\n",
              "    }\n",
              "\n",
              "    .colab-df-convert:hover {\n",
              "      background-color: #E2EBFA;\n",
              "      box-shadow: 0px 1px 2px rgba(60, 64, 67, 0.3), 0px 1px 3px 1px rgba(60, 64, 67, 0.15);\n",
              "      fill: #174EA6;\n",
              "    }\n",
              "\n",
              "    .colab-df-buttons div {\n",
              "      margin-bottom: 4px;\n",
              "    }\n",
              "\n",
              "    [theme=dark] .colab-df-convert {\n",
              "      background-color: #3B4455;\n",
              "      fill: #D2E3FC;\n",
              "    }\n",
              "\n",
              "    [theme=dark] .colab-df-convert:hover {\n",
              "      background-color: #434B5C;\n",
              "      box-shadow: 0px 1px 3px 1px rgba(0, 0, 0, 0.15);\n",
              "      filter: drop-shadow(0px 1px 2px rgba(0, 0, 0, 0.3));\n",
              "      fill: #FFFFFF;\n",
              "    }\n",
              "  </style>\n",
              "\n",
              "    <script>\n",
              "      const buttonEl =\n",
              "        document.querySelector('#df-2d53e8bf-9d6d-49b6-82c7-0920f274b953 button.colab-df-convert');\n",
              "      buttonEl.style.display =\n",
              "        google.colab.kernel.accessAllowed ? 'block' : 'none';\n",
              "\n",
              "      async function convertToInteractive(key) {\n",
              "        const element = document.querySelector('#df-2d53e8bf-9d6d-49b6-82c7-0920f274b953');\n",
              "        const dataTable =\n",
              "          await google.colab.kernel.invokeFunction('convertToInteractive',\n",
              "                                                    [key], {});\n",
              "        if (!dataTable) return;\n",
              "\n",
              "        const docLinkHtml = 'Like what you see? Visit the ' +\n",
              "          '<a target=\"_blank\" href=https://colab.research.google.com/notebooks/data_table.ipynb>data table notebook</a>'\n",
              "          + ' to learn more about interactive tables.';\n",
              "        element.innerHTML = '';\n",
              "        dataTable['output_type'] = 'display_data';\n",
              "        await google.colab.output.renderOutput(dataTable, element);\n",
              "        const docLink = document.createElement('div');\n",
              "        docLink.innerHTML = docLinkHtml;\n",
              "        element.appendChild(docLink);\n",
              "      }\n",
              "    </script>\n",
              "  </div>\n",
              "\n",
              "\n",
              "<div id=\"df-ae110fdc-5330-41b3-8bd4-4c276ae829dc\">\n",
              "  <button class=\"colab-df-quickchart\" onclick=\"quickchart('df-ae110fdc-5330-41b3-8bd4-4c276ae829dc')\"\n",
              "            title=\"Suggest charts\"\n",
              "            style=\"display:none;\">\n",
              "\n",
              "<svg xmlns=\"http://www.w3.org/2000/svg\" height=\"24px\"viewBox=\"0 0 24 24\"\n",
              "     width=\"24px\">\n",
              "    <g>\n",
              "        <path d=\"M19 3H5c-1.1 0-2 .9-2 2v14c0 1.1.9 2 2 2h14c1.1 0 2-.9 2-2V5c0-1.1-.9-2-2-2zM9 17H7v-7h2v7zm4 0h-2V7h2v10zm4 0h-2v-4h2v4z\"/>\n",
              "    </g>\n",
              "</svg>\n",
              "  </button>\n",
              "\n",
              "<style>\n",
              "  .colab-df-quickchart {\n",
              "      --bg-color: #E8F0FE;\n",
              "      --fill-color: #1967D2;\n",
              "      --hover-bg-color: #E2EBFA;\n",
              "      --hover-fill-color: #174EA6;\n",
              "      --disabled-fill-color: #AAA;\n",
              "      --disabled-bg-color: #DDD;\n",
              "  }\n",
              "\n",
              "  [theme=dark] .colab-df-quickchart {\n",
              "      --bg-color: #3B4455;\n",
              "      --fill-color: #D2E3FC;\n",
              "      --hover-bg-color: #434B5C;\n",
              "      --hover-fill-color: #FFFFFF;\n",
              "      --disabled-bg-color: #3B4455;\n",
              "      --disabled-fill-color: #666;\n",
              "  }\n",
              "\n",
              "  .colab-df-quickchart {\n",
              "    background-color: var(--bg-color);\n",
              "    border: none;\n",
              "    border-radius: 50%;\n",
              "    cursor: pointer;\n",
              "    display: none;\n",
              "    fill: var(--fill-color);\n",
              "    height: 32px;\n",
              "    padding: 0;\n",
              "    width: 32px;\n",
              "  }\n",
              "\n",
              "  .colab-df-quickchart:hover {\n",
              "    background-color: var(--hover-bg-color);\n",
              "    box-shadow: 0 1px 2px rgba(60, 64, 67, 0.3), 0 1px 3px 1px rgba(60, 64, 67, 0.15);\n",
              "    fill: var(--button-hover-fill-color);\n",
              "  }\n",
              "\n",
              "  .colab-df-quickchart-complete:disabled,\n",
              "  .colab-df-quickchart-complete:disabled:hover {\n",
              "    background-color: var(--disabled-bg-color);\n",
              "    fill: var(--disabled-fill-color);\n",
              "    box-shadow: none;\n",
              "  }\n",
              "\n",
              "  .colab-df-spinner {\n",
              "    border: 2px solid var(--fill-color);\n",
              "    border-color: transparent;\n",
              "    border-bottom-color: var(--fill-color);\n",
              "    animation:\n",
              "      spin 1s steps(1) infinite;\n",
              "  }\n",
              "\n",
              "  @keyframes spin {\n",
              "    0% {\n",
              "      border-color: transparent;\n",
              "      border-bottom-color: var(--fill-color);\n",
              "      border-left-color: var(--fill-color);\n",
              "    }\n",
              "    20% {\n",
              "      border-color: transparent;\n",
              "      border-left-color: var(--fill-color);\n",
              "      border-top-color: var(--fill-color);\n",
              "    }\n",
              "    30% {\n",
              "      border-color: transparent;\n",
              "      border-left-color: var(--fill-color);\n",
              "      border-top-color: var(--fill-color);\n",
              "      border-right-color: var(--fill-color);\n",
              "    }\n",
              "    40% {\n",
              "      border-color: transparent;\n",
              "      border-right-color: var(--fill-color);\n",
              "      border-top-color: var(--fill-color);\n",
              "    }\n",
              "    60% {\n",
              "      border-color: transparent;\n",
              "      border-right-color: var(--fill-color);\n",
              "    }\n",
              "    80% {\n",
              "      border-color: transparent;\n",
              "      border-right-color: var(--fill-color);\n",
              "      border-bottom-color: var(--fill-color);\n",
              "    }\n",
              "    90% {\n",
              "      border-color: transparent;\n",
              "      border-bottom-color: var(--fill-color);\n",
              "    }\n",
              "  }\n",
              "</style>\n",
              "\n",
              "  <script>\n",
              "    async function quickchart(key) {\n",
              "      const quickchartButtonEl =\n",
              "        document.querySelector('#' + key + ' button');\n",
              "      quickchartButtonEl.disabled = true;  // To prevent multiple clicks.\n",
              "      quickchartButtonEl.classList.add('colab-df-spinner');\n",
              "      try {\n",
              "        const charts = await google.colab.kernel.invokeFunction(\n",
              "            'suggestCharts', [key], {});\n",
              "      } catch (error) {\n",
              "        console.error('Error during call to suggestCharts:', error);\n",
              "      }\n",
              "      quickchartButtonEl.classList.remove('colab-df-spinner');\n",
              "      quickchartButtonEl.classList.add('colab-df-quickchart-complete');\n",
              "    }\n",
              "    (() => {\n",
              "      let quickchartButtonEl =\n",
              "        document.querySelector('#df-ae110fdc-5330-41b3-8bd4-4c276ae829dc button');\n",
              "      quickchartButtonEl.style.display =\n",
              "        google.colab.kernel.accessAllowed ? 'block' : 'none';\n",
              "    })();\n",
              "  </script>\n",
              "</div>\n",
              "    </div>\n",
              "  </div>\n"
            ]
          },
          "metadata": {},
          "execution_count": 14
        }
      ]
    },
    {
      "cell_type": "code",
      "source": [
        "sns.histplot(df1['sepal_width'],kde=True)"
      ],
      "metadata": {
        "colab": {
          "base_uri": "https://localhost:8080/",
          "height": 468
        },
        "id": "cCiMPOjVvmSL",
        "outputId": "0b98bc30-9953-445e-f1e7-6785d6c67ef1"
      },
      "execution_count": null,
      "outputs": [
        {
          "output_type": "execute_result",
          "data": {
            "text/plain": [
              "<Axes: xlabel='sepal_width', ylabel='Count'>"
            ]
          },
          "metadata": {},
          "execution_count": 15
        },
        {
          "output_type": "display_data",
          "data": {
            "text/plain": [
              "<Figure size 640x480 with 1 Axes>"
            ],
            "image/png": "[encoded data removed]"
          },
          "metadata": {}
        }
      ]
    },
    {
      "cell_type": "code",
      "source": [
        "np.percentile(df1['sepal_length'],[25,75])"
      ],
      "metadata": {
        "colab": {
          "base_uri": "https://localhost:8080/"
        },
        "id": "Z-XmUqltv3WD",
        "outputId": "79b6a406-c802-4c8b-dd4a-ceac89c4ed11"
      },
      "execution_count": null,
      "outputs": [
        {
          "output_type": "execute_result",
          "data": {
            "text/plain": [
              "array([5.1, 6.4])"
            ]
          },
          "metadata": {},
          "execution_count": 18
        }
      ]
    },
    {
      "cell_type": "code",
      "source": [
        "#outliers mostly outside(beyond) the 3 standard deviation it will be out liers only\n",
        "#z-score\n",
        "dataset=[11,15,1,4,2,6,5,1,5,8,2,1,4,8,62,1,5,1,2,21,2,1,5,1,42,1,53,21,3,6,2,54]\n",
        "outliers=[]\n",
        "def detect_outliers(data):\n",
        "  threshold=3 #sd\n",
        "  mean=np.mean(data)\n",
        "  std=np.std(data)\n",
        "\n",
        "  for i in data:\n",
        "    z_score=(i-mean)/std\n",
        "    if np.abs(z_score)>threshold:\n",
        "      outliers.append(i)\n",
        "\n",
        "  return outliers\n",
        "\n",
        "detect_outliers(dataset)"
      ],
      "metadata": {
        "colab": {
          "base_uri": "https://localhost:8080/"
        },
        "id": "vv0cRLfewDZj",
        "outputId": "795e095e-05ef-46d4-dc18-f355f9a2ec3f"
      },
      "execution_count": null,
      "outputs": [
        {
          "output_type": "execute_result",
          "data": {
            "text/plain": [
              "[62]"
            ]
          },
          "metadata": {},
          "execution_count": 22
        }
      ]
    },
    {
      "cell_type": "code",
      "source": [
        "#IQR\n",
        "dataset=sorted(dataset)\n",
        "q1,q3=np.percentile(dataset,[25,75])\n",
        "print(q1,q3)"
      ],
      "metadata": {
        "colab": {
          "base_uri": "https://localhost:8080/"
        },
        "id": "7Glq_Xb4yfuS",
        "outputId": "79a7c0e1-1ebb-437d-eadd-9deeb5047c5c"
      },
      "execution_count": null,
      "outputs": [
        {
          "output_type": "stream",
          "name": "stdout",
          "text": [
            "1.75 8.75\n"
          ]
        }
      ]
    },
    {
      "cell_type": "code",
      "source": [
        "iqr=q3-q1\n",
        "lower_fence=q1-1.5*iqr\n",
        "heigher_fence=q1+1.5*iqr\n",
        "print(lower_fence,heigher_fence)"
      ],
      "metadata": {
        "colab": {
          "base_uri": "https://localhost:8080/"
        },
        "id": "xSyYhHyNzjQD",
        "outputId": "4544a646-863d-4c3f-fd59-33eb6a03e7a2"
      },
      "execution_count": null,
      "outputs": [
        {
          "output_type": "stream",
          "name": "stdout",
          "text": [
            "-8.75 12.25\n"
          ]
        }
      ]
    },
    {
      "cell_type": "code",
      "source": [
        "sns.boxplot(dataset)"
      ],
      "metadata": {
        "colab": {
          "base_uri": "https://localhost:8080/",
          "height": 448
        },
        "id": "gF4-QZPdz5H7",
        "outputId": "c706234f-a6e3-40ac-a484-d0d889b4c745"
      },
      "execution_count": null,
      "outputs": [
        {
          "output_type": "execute_result",
          "data": {
            "text/plain": [
              "<Axes: >"
            ]
          },
          "metadata": {},
          "execution_count": 26
        },
        {
          "output_type": "display_data",
          "data": {
            "text/plain": [
              "<Figure size 640x480 with 1 Axes>"
            ],
            "image/png": "[encoded data removed]"
          },
          "metadata": {}
        }
      ]
    },
    {
      "cell_type": "code",
      "source": [
        "#suppose the IQ in a certain population is normally distributed with a mean of =100 and sd 15\n",
        "#a researcher wants to know if a new drug affects IQ levels, so he recruits 20 patients to try\n",
        "#it and record their iq levels\n",
        "#the  following code shows how to perform a one sample z-test in python to determine if the new drug causes a\n",
        "#significant difference in iq levels"
      ],
      "metadata": {
        "id": "UhrmPae70GwK"
      },
      "execution_count": null,
      "outputs": []
    },
    {
      "cell_type": "code",
      "source": [
        "from statsmodels.stats.weightstats import ztest as ztest\n",
        "#enter IQ levels for 20 patients\n",
        "data=[88,92,94,94,94,96,97,97,97,99,99,105,109,109,109,110,1112,112,113,114,115]\n",
        "\n",
        "  ztest(data,value=100)"
      ],
      "metadata": {
        "colab": {
          "base_uri": "https://localhost:8080/"
        },
        "id": "0NS6y6aFO_I9",
        "outputId": "bcb0fe5b-7dea-46c7-866b-d18987880f3a"
      },
      "execution_count": null,
      "outputs": [
        {
          "output_type": "execute_result",
          "data": {
            "text/plain": [
              "(1.0439732732148796, 0.29649775526190547)"
            ]
          },
          "metadata": {},
          "execution_count": 29
        }
      ]
    },
    {
      "cell_type": "code",
      "source": [],
      "metadata": {
        "id": "fVWsbVwDPqoC"
      },
      "execution_count": null,
      "outputs": []
    }
  ]
}